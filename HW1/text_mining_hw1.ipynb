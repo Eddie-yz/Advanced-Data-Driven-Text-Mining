{
 "cells": [
  {
   "cell_type": "code",
   "execution_count": 2,
   "metadata": {
    "colab": {
     "base_uri": "https://localhost:8080/",
     "height": 105
    },
    "id": "EQjNEJQScWn3",
    "outputId": "83114927-47b2-434a-bea0-bb60ca52c1ff"
   },
   "outputs": [
    {
     "name": "stdout",
     "output_type": "stream",
     "text": [
      "[nltk_data] Downloading package punkt to /root/nltk_data...\n",
      "[nltk_data]   Unzipping tokenizers/punkt.zip.\n",
      "[nltk_data] Downloading package stopwords to /root/nltk_data...\n",
      "[nltk_data]   Unzipping corpora/stopwords.zip.\n"
     ]
    },
    {
     "data": {
      "text/plain": [
       "True"
      ]
     },
     "execution_count": 2,
     "metadata": {
      "tags": []
     },
     "output_type": "execute_result"
    }
   ],
   "source": [
    "import numpy as np\n",
    "import re\n",
    "import csv\n",
    "import time\n",
    "import nltk\n",
    "import string\n",
    "from collections import defaultdict\n",
    "import tqdm.notebook as tqdm\n",
    "from nltk.tokenize import word_tokenize\n",
    "from nltk.stem.snowball import SnowballStemmer\n",
    "from nltk.corpus import stopwords\n",
    "from sklearn.model_selection import train_test_split\n",
    "from sklearn.linear_model import LogisticRegression\n",
    "from scipy.sparse import csr_matrix\n",
    "from gensim import utils, models\n",
    "nltk.download('punkt')\n",
    "nltk.download('stopwords')"
   ]
  },
  {
   "cell_type": "markdown",
   "metadata": {
    "id": "5J0QFJToIzDg"
   },
   "source": [
    "### 0. Some utility functions that will be used lately\n",
    "\n"
   ]
  },
  {
   "cell_type": "code",
   "execution_count": 37,
   "metadata": {
    "id": "JLGkAeFZfJlb"
   },
   "outputs": [],
   "source": [
    "# untility functions for text cleaning\n",
    "\n",
    "stop_words = stopwords.words('english')\n",
    "\n",
    "def remove_URL(text):\n",
    "    url = re.compile(r'https?://\\S+|www\\.\\S+')\n",
    "    return url.sub(r'',text)\n",
    "\n",
    "def remove_html(text):\n",
    "    html=re.compile(r'<.*?>')\n",
    "    return html.sub(r'',text)\n",
    "\n",
    "def remove_punc(text):\n",
    "    table = str.maketrans(string.punctuation, ' '*len(string.punctuation))\n",
    "    return text.translate(table)\n",
    "\n",
    "def remove_digits(text): \n",
    "    pattern = '[0-9]'\n",
    "    text = re.sub(pattern, '', text)\n",
    "    return text\n",
    "\n",
    "def html_unescape(text):\n",
    "    return html.unescape(text)\n",
    "\n",
    "def reduce_length(text):\n",
    "    pattern = re.compile(r\"(.)\\1{2,}\")\n",
    "    return pattern.sub(r\"\\1\\1\", text)\n",
    "\n",
    "#tokenize sentence and correct the spelling\n",
    "def token_n_spellcheck(text):\n",
    "    words = word_tokenize(text)\n",
    "    reduced_text  = [reduce_length(word) for word in words]\n",
    "    stemmer = SnowballStemmer(\"english\")\n",
    "    stem_text = [stemmer.stem(word) for word in reduced_text if word not in stop_words]\n",
    "\n",
    "    return stem_text\n",
    "\n",
    "# the pipeline function for text cleaning\n",
    "def text_clean(text):\n",
    "    text = text.lower()\n",
    "    text = remove_URL(text)\n",
    "    text = remove_html(text)\n",
    "    text = remove_digits(text)\n",
    "    text = remove_punc(text)\n",
    "    words = token_n_spellcheck(text)\n",
    "    return words\n"
   ]
  },
  {
   "cell_type": "code",
   "execution_count": null,
   "metadata": {
    "id": "M9frzcR0JgH2"
   },
   "outputs": [],
   "source": [
    "# utility functions for train, test, and calculating metrics\n",
    "\n",
    "def train_LR(X, y):\n",
    "    clf = LogisticRegression(multi_class='ovr')\n",
    "    clf.fit(X, y)\n",
    "    return clf\n",
    "\n",
    "def predict(X, clf):\n",
    "    return clf.predict(X)\n",
    "\n",
    "def train_n_test(X, y):\n",
    "    X_train, X_left, y_train, y_left = train_test_split(X, y, test_size=0.2, random_state=42)\n",
    "    X_val, X_test = X_left[:int(X_left.shape[0]/2), :], X_left[(int(X_left.shape[0]/2)+1):, :]\n",
    "    y_val, y_test = y_left[:int(y_left.shape[0]/2)], y_left[(int(y_left.shape[0]/2)+1):]\n",
    "    clf = train_LR(X_train, y_train)\n",
    "    y_train_pre = predict(X_train, clf)\n",
    "    print ('Training set acc: {}'.format(np.sum(y_train_pre == y_train)/len(y_train)))\n",
    "    y_pre = predict(X_test, clf)\n",
    "    return y_pre, y_test\n",
    "\n",
    "def cal_acc(y_pre, y_gt):\n",
    "    return (np.sum(y_pre == y_gt)/len(y_pre))\n",
    "\n",
    "def cal_macro_f1(y_pre, y_gt):\n",
    "    confusion_mat = np.zeros((3,3))\n",
    "    for pre, gt in zip(y_pre, y_gt):\n",
    "        confusion_mat[int(pre), int(gt)] += 1\n",
    "    f1_scores = list()\n",
    "    for i in range(3):\n",
    "        precision = confusion_mat[i,i] / np.sum(confusion_mat[i, :])\n",
    "        recall = confusion_mat[i,i] / np.sum(confusion_mat[:, i])\n",
    "        f1_scores.append(2 * precision * recall / (precision + recall))\n",
    "    return np.mean(f1_scores)\n",
    "\n",
    "def cal_micro_f1(y_pre, y_gt):\n",
    "    tp = np.sum(y_pre == y_gt)\n",
    "    errs = len(y_pre) - tp\n",
    "    return tp/(tp + errs)\n",
    "\n",
    "def print_evaluation(y_pre, y_gt):\n",
    "    eval_metrics = ['acc', 'macro_f1', 'micro_f1']\n",
    "    for metric in eval_metrics:\n",
    "        res = eval('cal_{}'.format(metric))(y_pre, y_gt)\n",
    "        print ('Test set {}: {}'.format(metric, res))\n",
    "            "
   ]
  },
  {
   "cell_type": "code",
   "execution_count": 41,
   "metadata": {
    "colab": {
     "base_uri": "https://localhost:8080/",
     "height": 66,
     "referenced_widgets": [
      "715c16a44a6b43679e44bb91f0321964",
      "9653beecfa964ec3bda81ea7f5465446",
      "004cfc140e7d432eb7f1efe683abdf97",
      "b02a8ee730074efcaf4f98a24bc1d089",
      "8550167947244d7ca9032a49d15accdb",
      "f06c0d24e5db4abbacce00c95f16fa74",
      "ce8ff3ada6a64d518aa581e382eef5b9",
      "c6a7e4490e904dcf9a35b12187f69d16"
     ]
    },
    "id": "5-fXpt6vdM0G",
    "outputId": "233b5749-60a8-4aa4-c678-952a6c289d50"
   },
   "outputs": [
    {
     "data": {
      "application/vnd.jupyter.widget-view+json": {
       "model_id": "715c16a44a6b43679e44bb91f0321964",
       "version_major": 2,
       "version_minor": 0
      },
      "text/plain": [
       "HBox(children=(FloatProgress(value=0.0, max=11519.0), HTML(value='')))"
      ]
     },
     "metadata": {
      "tags": []
     },
     "output_type": "display_data"
    },
    {
     "name": "stdout",
     "output_type": "stream",
     "text": [
      "\n"
     ]
    }
   ],
   "source": [
    "# load NYT data and apply the text_clean function \n",
    "\n",
    "text_data = list()\n",
    "\n",
    "with open('nyt.csv', 'r') as f:\n",
    "    reader = csv.reader(f)\n",
    "    # skip the header\n",
    "    next(reader, None)\n",
    "    for row in reader:\n",
    "        text_data.append(row)\n",
    "\n",
    "docs = list()\n",
    "labels = list()\n",
    "words = set()\n",
    "\n",
    "for text, label in tqdm.tqdm(text_data):\n",
    "    doc_words = text_clean(text)\n",
    "    docs.append(doc_words)\n",
    "    words.update(set(doc_words))\n",
    "    labels.append(label)\n",
    "\n",
    "labels = list(set(labels))"
   ]
  },
  {
   "cell_type": "code",
   "execution_count": null,
   "metadata": {
    "colab": {
     "base_uri": "https://localhost:8080/",
     "height": 50
    },
    "id": "kiNQLmtSdLAG",
    "outputId": "a735d17e-11e2-46a1-9de4-add1946aa453"
   },
   "outputs": [
    {
     "name": "stdout",
     "output_type": "stream",
     "text": [
      "Labels:  ['business', 'politics', 'sports']\n",
      "Total dictionary size: 43489\n"
     ]
    }
   ],
   "source": [
    "print ('Labels: ', labels)\n",
    "print ('Total dictionary size: {}'.format(len(words)))\n",
    "\n",
    "word2ind, ind2word = dict(), dict()\n",
    "\n",
    "for ind, word in enumerate(words):\n",
    "    word2ind[word] = ind\n",
    "    ind2word[ind] = word"
   ]
  },
  {
   "cell_type": "markdown",
   "metadata": {
    "id": "Qrfq7AUfTmbH"
   },
   "source": [
    "### 1. Bag of Words\n",
    "\n",
    "(a) Binary-valued vector representation"
   ]
  },
  {
   "cell_type": "code",
   "execution_count": null,
   "metadata": {
    "id": "eUvABsldfKdn",
    "outputId": "8153748f-d0be-4005-d034-9229a1892407"
   },
   "outputs": [
    {
     "name": "stderr",
     "output_type": "stream",
     "text": [
      "C:\\Users\\mbfdc\\Anaconda3\\envs\\work\\lib\\site-packages\\sklearn\\linear_model\\logistic.py:432: FutureWarning: Default solver will be changed to 'lbfgs' in 0.22. Specify a solver to silence this warning.\n",
      "  FutureWarning)\n"
     ]
    },
    {
     "name": "stdout",
     "output_type": "stream",
     "text": [
      "Training set acc: 1.0\n",
      "Test set acc: 0.9826238053866203\n",
      "Test set macro_f1: 0.951558633150673\n",
      "Test set micro_f1: 0.9826238053866203\n"
     ]
    }
   ],
   "source": [
    "def generate_matrix_binary(docs, text_data, word2ind):\n",
    "    X, y = np.zeros([len(docs), len(word2ind)]), np.zeros(len(docs))\n",
    "    for i, doc_words in enumerate(docs):\n",
    "        label = text_data[i][1]\n",
    "        if label == 'sports':\n",
    "            y[i] = 0\n",
    "        elif label == 'business':\n",
    "            y[i] = 1\n",
    "        elif label == 'politics':\n",
    "            y[i] = 2\n",
    "        for word in doc_words:\n",
    "            X[i][word2ind[word]] = 1\n",
    "    return csr_matrix(X), y\n",
    "\n",
    "X, y = generate_matrix_binary(docs, text_data, word2ind)\n",
    "\n",
    "y_pre, y_test = train_n_test(X, y)\n",
    "print_evaluation(y_pre, y_test)"
   ]
  },
  {
   "cell_type": "markdown",
   "metadata": {
    "id": "DoRfxAw2TmbJ"
   },
   "source": [
    "(b) Frequency-valued vector representation"
   ]
  },
  {
   "cell_type": "code",
   "execution_count": null,
   "metadata": {
    "colab": {
     "base_uri": "https://localhost:8080/",
     "height": 279
    },
    "id": "_t2j5H_5icAL",
    "outputId": "205411f3-0131-421e-dacd-b271e7ada84b"
   },
   "outputs": [
    {
     "name": "stdout",
     "output_type": "stream",
     "text": [
      "Training set acc: 1.0\n",
      "Test set acc: 0.9904430929626412\n",
      "Test set macro_f1: 0.9713993887522795\n",
      "Test set micro_f1: 0.9904430929626412\n"
     ]
    }
   ],
   "source": [
    "def generate_matrix_freq(docs, text_data, word2ind):\n",
    "    X, y = np.zeros([len(docs), len(word2ind)]), np.zeros(len(docs))\n",
    "    for i, doc_words in enumerate(docs):\n",
    "        label = text_data[i][1]\n",
    "        if label == 'sports':\n",
    "            y[i] = 0\n",
    "        elif label == 'business':\n",
    "            y[i] = 1\n",
    "        elif label == 'politics':\n",
    "            y[i] = 2\n",
    "        for word in doc_words:\n",
    "            X[i][word2ind[word]] += 1\n",
    "    return csr_matrix(X), y\n",
    "\n",
    "X, y = generate_matrix_freq(docs, text_data, word2ind)\n",
    "\n",
    "y_pre, y_test = train_n_test(X, y)\n",
    "print_evaluation(y_pre, y_test)"
   ]
  },
  {
   "cell_type": "markdown",
   "metadata": {
    "id": "YkgWM_sZTmbM"
   },
   "source": [
    "(c) TFIDF-valued vector representation"
   ]
  },
  {
   "cell_type": "markdown",
   "metadata": {
    "id": "2HjdXcy6TmbN"
   },
   "source": [
    "Raw TF * Raw IDF"
   ]
  },
  {
   "cell_type": "code",
   "execution_count": null,
   "metadata": {
    "id": "qSu_foVRTmbN",
    "outputId": "bea3f063-0803-43fa-cd61-d60c17693a6c"
   },
   "outputs": [
    {
     "name": "stdout",
     "output_type": "stream",
     "text": [
      "Training set acc: 0.9992403689636462\n",
      "Test set acc: 0.9748045178105995\n",
      "Test set macro_f1: 0.9380544093462754\n",
      "Test set micro_f1: 0.9748045178105995\n"
     ]
    }
   ],
   "source": [
    "def generate_matrix_tfidf(docs, text_data, word2ind):\n",
    "    df_cnt = defaultdict(float)\n",
    "    for doc_words in docs:\n",
    "        words = set(doc_words)\n",
    "        for w in words:\n",
    "            df_cnt[w] += 1\n",
    "    X, y = np.zeros([len(docs), len(word2ind)]), np.zeros(len(docs))\n",
    "    tf_cnt = defaultdict(int)\n",
    "    for i, doc_words in enumerate(docs):\n",
    "        label = text_data[i][1]\n",
    "        if label == 'sports':\n",
    "            y[i] = 0\n",
    "        elif label == 'business':\n",
    "            y[i] = 1\n",
    "        elif label == 'politics':\n",
    "            y[i] = 2\n",
    "        for word in doc_words:\n",
    "            tf_cnt[word] += 1\n",
    "        for word in doc_words:\n",
    "            # using the raw tf-idf\n",
    "            X[i, word2ind[word]] = tf_cnt.get(word, 0) / (df_cnt[word])\n",
    "    return csr_matrix(X), y\n",
    "\n",
    "X, y = generate_matrix_tfidf(docs, text_data, word2ind)\n",
    "\n",
    "y_pre, y_test = train_n_test(X, y)\n",
    "print_evaluation(y_pre, y_test)"
   ]
  },
  {
   "cell_type": "markdown",
   "metadata": {
    "id": "9YI_SjLPTmbP"
   },
   "source": [
    "Raw TF * Smoothed IDF"
   ]
  },
  {
   "cell_type": "code",
   "execution_count": null,
   "metadata": {
    "id": "NPOD5-OPTmbP",
    "outputId": "5b8feb92-cf5c-4a22-a14e-baf17f9b2173"
   },
   "outputs": [
    {
     "name": "stdout",
     "output_type": "stream",
     "text": [
      "Training set acc: 1.0\n",
      "Test set acc: 0.9704604691572546\n",
      "Test set macro_f1: 0.9244609260386428\n",
      "Test set micro_f1: 0.9704604691572546\n"
     ]
    }
   ],
   "source": [
    "def generate_matrix_tfidf(docs, text_data, word2ind):\n",
    "    df_cnt = defaultdict(float)\n",
    "    for doc_words in docs:\n",
    "        words = set(doc_words)\n",
    "        for w in words:\n",
    "            df_cnt[w] += 1\n",
    "    X, y = np.zeros([len(docs), len(word2ind)]), np.zeros(len(docs))\n",
    "    tf_cnt = defaultdict(int)\n",
    "    for i, doc_words in enumerate(docs):\n",
    "        label = text_data[i][1]\n",
    "        if label == 'sports':\n",
    "            y[i] = 0\n",
    "        elif label == 'business':\n",
    "            y[i] = 1\n",
    "        elif label == 'politics':\n",
    "            y[i] = 2\n",
    "        for word in doc_words:\n",
    "            tf_cnt[word] += 1\n",
    "        for word in doc_words:\n",
    "            # replacing the raw idf with the smoothed idf here\n",
    "            X[i, word2ind[word]] = tf_cnt.get(word, 0) * np.log((len(docs) + 1) / (df_cnt[word] + 0.5))\n",
    "    return csr_matrix(X), y\n",
    "\n",
    "X, y = generate_matrix_tfidf(docs, text_data, word2ind)\n",
    "\n",
    "y_pre, y_test = train_n_test(X, y)\n",
    "print_evaluation(y_pre, y_test)"
   ]
  },
  {
   "cell_type": "markdown",
   "metadata": {
    "id": "Wc4RkAkvTmbS"
   },
   "source": [
    "Log TF * Smoothed IDF"
   ]
  },
  {
   "cell_type": "code",
   "execution_count": null,
   "metadata": {
    "id": "nDQIShZjTmbS",
    "outputId": "a809f00c-235b-4737-83cd-6baeb1dd6669"
   },
   "outputs": [
    {
     "name": "stdout",
     "output_type": "stream",
     "text": [
      "Training set acc: 1.0\n",
      "Test set acc: 0.9834926151172894\n",
      "Test set macro_f1: 0.9556515083909671\n",
      "Test set micro_f1: 0.9834926151172894\n"
     ]
    }
   ],
   "source": [
    "def generate_matrix_tfidf(docs, text_data, word2ind):\n",
    "    df_cnt = defaultdict(float)\n",
    "    for doc_words in docs:\n",
    "        words = set(doc_words)\n",
    "        for w in words:\n",
    "            df_cnt[w] += 1\n",
    "    X, y = np.zeros([len(docs), len(word2ind)]), np.zeros(len(docs))\n",
    "    tf_cnt = defaultdict(int)\n",
    "    for i, doc_words in enumerate(docs):\n",
    "        label = text_data[i][1]\n",
    "        if label == 'sports':\n",
    "            y[i] = 0\n",
    "        elif label == 'business':\n",
    "            y[i] = 1\n",
    "        elif label == 'politics':\n",
    "            y[i] = 2\n",
    "        for word in doc_words:\n",
    "            tf_cnt[word] += 1\n",
    "        for word in doc_words:\n",
    "            # further replacing the raw tf with the log tf\n",
    "            X[i, word2ind[word]] = np.log(tf_cnt.get(word, 1)) * np.log((len(docs) + 1) / (df_cnt[word] + 0.5))\n",
    "    return csr_matrix(X), y\n",
    "\n",
    "X, y = generate_matrix_tfidf(docs, text_data, word2ind)\n",
    "\n",
    "y_pre, y_test = train_n_test(X, y)\n",
    "print_evaluation(y_pre, y_test)"
   ]
  },
  {
   "cell_type": "markdown",
   "metadata": {
    "id": "PnTIqUopTmbW"
   },
   "source": [
    "### 2. Word2Vec"
   ]
  },
  {
   "cell_type": "code",
   "execution_count": 39,
   "metadata": {
    "id": "PUYoNv7bTmbX"
   },
   "outputs": [],
   "source": [
    "# the function for generating the embeddings of a single document\n",
    "def doc2vec(doc, embed_dict):\n",
    "    res = np.zeros(100)\n",
    "    valid = len(doc)\n",
    "    for w in doc:\n",
    "        if w in embed_dict:\n",
    "            res += embed_dict[w]\n",
    "        else:\n",
    "            valid -= 1\n",
    "    res /= valid\n",
    "    return res\n",
    "\n",
    "# the function for generating X,y based on a given embedding dictionary\n",
    "def generate_doc_embeddings(docs, text_data, embedding_dict):\n",
    "    X, y = np.zeros([len(docs), 100]), np.zeros(len(docs))\n",
    "    for i, doc_words in enumerate(docs):\n",
    "        label = text_data[i][1]\n",
    "        if label == 'sports':\n",
    "            y[i] = 0\n",
    "        elif label == 'business':\n",
    "            y[i] = 1\n",
    "        elif label == 'politics':\n",
    "            y[i] = 2\n",
    "        X[i, :] = doc2vec(doc_words, embedding_dict)\n",
    "    return X, y\n"
   ]
  },
  {
   "cell_type": "markdown",
   "metadata": {
    "id": "o2EHkpJBTmbZ"
   },
   "source": [
    "(a) (i) Pre-trained Glove embeddings:"
   ]
  },
  {
   "cell_type": "code",
   "execution_count": null,
   "metadata": {
    "id": "wppxZNghTmbZ",
    "outputId": "d7cd01ac-0b11-4605-f7d3-adc5596d72da"
   },
   "outputs": [
    {
     "name": "stderr",
     "output_type": "stream",
     "text": [
      "C:\\Users\\mbfdc\\Anaconda3\\envs\\work\\lib\\site-packages\\sklearn\\linear_model\\logistic.py:432: FutureWarning: Default solver will be changed to 'lbfgs' in 0.22. Specify a solver to silence this warning.\n",
      "  FutureWarning)\n"
     ]
    },
    {
     "name": "stdout",
     "output_type": "stream",
     "text": [
      "Training set acc: 0.9817688551275094\n",
      "Test set acc: 0.9748045178105995\n",
      "Test set macro_f1: 0.9336304638041465\n",
      "Test set micro_f1: 0.9748045178105995\n"
     ]
    }
   ],
   "source": [
    "def embedding_from_pretrain():\n",
    "    embedding_dict = {}\n",
    "    with open('glove.6B.100d.txt', encoding='utf8') as f:\n",
    "        for line in f:\n",
    "            values = line.split()\n",
    "            word = values[0].replace('<','').replace('>','')\n",
    "            if word.isalpha() is False:\n",
    "                continue\n",
    "            vec = np.array(values[1:], dtype='float32')\n",
    "            embedding_dict[word] = vec\n",
    "    return embedding_dict\n",
    "\n",
    "embedding_dict = embedding_from_pretrain()\n",
    "X, y = generate_doc_embeddings(docs, text_data, embedding_dict)\n",
    "\n",
    "y_pre, y_test = train_n_test(X, y)\n",
    "print_evaluation(y_pre, y_test)"
   ]
  },
  {
   "cell_type": "markdown",
   "metadata": {
    "id": "36i6vbs2Tmbb"
   },
   "source": [
    "(a)(ii) Train Word2Vec on AGNews"
   ]
  },
  {
   "cell_type": "code",
   "execution_count": null,
   "metadata": {
    "id": "xZkBzljUTmbd",
    "outputId": "8fd224de-25e9-41fe-97a6-9b708f9e6408"
   },
   "outputs": [
    {
     "name": "stderr",
     "output_type": "stream",
     "text": [
      "C:\\Users\\mbfdc\\Anaconda3\\envs\\work\\lib\\site-packages\\sklearn\\linear_model\\logistic.py:432: FutureWarning: Default solver will be changed to 'lbfgs' in 0.22. Specify a solver to silence this warning.\n",
      "  FutureWarning)\n"
     ]
    },
    {
     "name": "stdout",
     "output_type": "stream",
     "text": [
      "Training set acc: 0.977319587628866\n",
      "Test set acc: 0.9704604691572546\n",
      "Test set macro_f1: 0.927292419840161\n",
      "Test set micro_f1: 0.9704604691572546\n"
     ]
    }
   ],
   "source": [
    "# Train on AGNews data using gensim.utility.simple_preprocess to tokenize\n",
    "\n",
    "ag_data = list()\n",
    "with open('ag.csv', 'r') as f:\n",
    "    reader = csv.reader(f)\n",
    "    # skip the header\n",
    "    next(reader, None)\n",
    "    for line in reader:\n",
    "        ag_data.append(utils.simple_preprocess(line[0]))\n",
    "        \n",
    "ag_model = models.Word2Vec(ag_data, size=100, window=5, min_count=3, workers=4)\n",
    "X, y = generate_doc_embeddings(docs, text_data, ag_model.wv)\n",
    "\n",
    "y_pre, y_test = train_n_test(X, y)\n",
    "print_evaluation(y_pre, y_test)"
   ]
  },
  {
   "cell_type": "code",
   "execution_count": 42,
   "metadata": {
    "colab": {
     "base_uri": "https://localhost:8080/",
     "height": 87
    },
    "id": "wOsrBIpoWK_-",
    "outputId": "37d33652-400c-4c48-9f29-fdab793a4a33"
   },
   "outputs": [
    {
     "name": "stdout",
     "output_type": "stream",
     "text": [
      "Training set acc: 0.9804666304937601\n",
      "Test set acc: 0.9782797567332754\n",
      "Test set macro_f1: 0.9421286536357574\n",
      "Test set micro_f1: 0.9782797567332754\n"
     ]
    }
   ],
   "source": [
    "# Train on AGNews data using my own text_clean function to tokenize\n",
    "\n",
    "ag_data = list()\n",
    "with open('ag.csv', 'r') as f:\n",
    "    reader = csv.reader(f)\n",
    "    # skip the header\n",
    "    next(reader, None)\n",
    "    for line in tqdm.tqdm(reader):\n",
    "        # using my own text cleaning function to tokenize the ag data for training\n",
    "        ag_data.append(text_clean(line[0]))\n",
    "        \n",
    "ag_model = models.Word2Vec(ag_data, size=100, window=5, min_count=3, workers=4)\n",
    "X, y = generate_doc_embeddings(docs, text_data, ag_model.wv)\n",
    "\n",
    "y_pre, y_test = train_n_test(X, y)\n",
    "print_evaluation(y_pre, y_test)"
   ]
  },
  {
   "cell_type": "markdown",
   "metadata": {
    "id": "41tilMxeTmbf"
   },
   "source": [
    "(a)(iii) Train Word2Vec on NYT"
   ]
  },
  {
   "cell_type": "code",
   "execution_count": null,
   "metadata": {
    "colab": {
     "base_uri": "https://localhost:8080/",
     "height": 84
    },
    "id": "DIsrvomLTmbf",
    "outputId": "5acc99f4-dcda-4deb-d2d2-784ef30a45af"
   },
   "outputs": [
    {
     "name": "stdout",
     "output_type": "stream",
     "text": [
      "Training set acc: 0.9817688551275094\n",
      "Test set acc: 0.9800173761946134\n",
      "Test set macro_f1: 0.9416040042790644\n",
      "Test set micro_f1: 0.9800173761946134\n"
     ]
    }
   ],
   "source": [
    "# Train on NYT data using gensim.utility.simple_preprocess to tokenize\n",
    "\n",
    "nyt_data = list()\n",
    "with open('nyt.csv', 'r') as f:\n",
    "    reader = csv.reader(f)\n",
    "    # skip the header\n",
    "    next(reader, None)\n",
    "    for line in reader:\n",
    "        # using simple_preprocess function to tokenize\n",
    "        nyt_data.append(utils.simple_preprocess(line[0]))\n",
    "        \n",
    "nyt_model = models.Word2Vec(nyt_data, size=100, window=5, min_count=3, workers=4)\n",
    "X, y = generate_doc_embeddings(docs, text_data, nyt_model.wv)\n",
    "\n",
    "y_pre, y_test = train_n_test(X, y)\n",
    "print_evaluation(y_pre, y_test)"
   ]
  },
  {
   "cell_type": "code",
   "execution_count": null,
   "metadata": {
    "colab": {
     "base_uri": "https://localhost:8080/",
     "height": 84
    },
    "id": "jt5CBsSsTmbi",
    "outputId": "4d62e80a-7ca9-4071-e302-d59c9acfeec4"
   },
   "outputs": [
    {
     "name": "stdout",
     "output_type": "stream",
     "text": [
      "Training set acc: 0.9850244167118828\n",
      "Test set acc: 0.9817549956559514\n",
      "Test set macro_f1: 0.9501484403818173\n",
      "Test set micro_f1: 0.9817549956559514\n"
     ]
    }
   ],
   "source": [
    "# Train on NYT data using my own text_clean function to tokenize\n",
    "\n",
    "nyt_model = models.Word2Vec(docs, size=100, window=5, min_count=3, workers=4)\n",
    "X, y = generate_doc_embeddings(docs, text_data, nyt_model.wv)\n",
    "\n",
    "y_pre, y_test = train_n_test(X, y)\n",
    "print_evaluation(y_pre, y_test)"
   ]
  },
  {
   "cell_type": "markdown",
   "metadata": {
    "id": "FA_7RmsVLggE"
   },
   "source": [
    "From the results above, I found that using my customized text_clean function will lead to a better performance than using the simple_preprocess function from gensim\n"
   ]
  },
  {
   "cell_type": "markdown",
   "metadata": {
    "id": "O-_wUT3qTmbl"
   },
   "source": [
    "(b) Cons of averaging word vectos\n",
    "- The order of words is not preserved, which can be important\n",
    "  - We can apply a RNN model like LSTM, or a transformer which employs position encodings to preserve the order information.\n",
    "- Some words can be more important than others to the document category, but now they are getting the same weights.\n",
    "  - Maybe we can derive weights based on the tf-idf values (which to some extend reflect the importance of a word in a document), and then use a weighted average to generate document embeddings.\n",
    "  "
   ]
  },
  {
   "cell_type": "markdown",
   "metadata": {
    "id": "nP-2pvMtJEiU"
   },
   "source": [
    "### 3. BERT"
   ]
  },
  {
   "cell_type": "code",
   "execution_count": 5,
   "metadata": {
    "id": "yUI5Mz3GTmbl"
   },
   "outputs": [],
   "source": [
    "from transformers import BertTokenizer, BertForSequenceClassification, Trainer, TrainingArguments, AdamW\n",
    "import torch\n",
    "from torch.utils.data import Dataset, DataLoader"
   ]
  },
  {
   "cell_type": "code",
   "execution_count": 6,
   "metadata": {
    "colab": {
     "base_uri": "https://localhost:8080/",
     "height": 66,
     "referenced_widgets": [
      "2ede9354acba4316b576c80b9e4dd9ae",
      "cb4c3c6fc9094aafa6a8fc38a9fec72e",
      "3fe085b5213e4801aae24fadf4f257b6",
      "569f87485656450d849e855e2765a5b6",
      "c49b7820941a4ba1b77ff046f46ac271",
      "c54378b882714293bca49f1e5eadf580",
      "f3489e9bec764f49811fcab967ca82bb",
      "02970b995b144240af97e79069e7f8ef"
     ]
    },
    "id": "FdnvQEG97jil",
    "outputId": "c9b2adb3-926b-4cf0-9a3b-95bed52e6dea"
   },
   "outputs": [
    {
     "data": {
      "application/vnd.jupyter.widget-view+json": {
       "model_id": "2ede9354acba4316b576c80b9e4dd9ae",
       "version_major": 2,
       "version_minor": 0
      },
      "text/plain": [
       "HBox(children=(FloatProgress(value=0.0, description='Downloading', max=231508.0, style=ProgressStyle(descripti…"
      ]
     },
     "metadata": {
      "tags": []
     },
     "output_type": "display_data"
    },
    {
     "name": "stdout",
     "output_type": "stream",
     "text": [
      "\n"
     ]
    }
   ],
   "source": [
    "nyt_text, nyt_labels = list(), list()\n",
    "\n",
    "with open('nyt.csv', 'r') as f:\n",
    "    reader = csv.reader(f)\n",
    "    # skip the header\n",
    "    next(reader, None)\n",
    "    for row in reader:\n",
    "        nyt_text.append(row[0])\n",
    "        if row[1] == 'sports':\n",
    "            nyt_labels.append(0)\n",
    "        elif row[1] == 'business':\n",
    "            nyt_labels.append(1)\n",
    "        elif row[1] == 'politics':\n",
    "            nyt_labels.append(2)\n",
    "            \n",
    "\n",
    "inds = np.arange(len(nyt_text))\n",
    "train_inds, left_inds, _, _ = train_test_split(np.array(inds), np.arange(len(nyt_text)), test_size=0.2, random_state=42)\n",
    "val_inds, test_inds = left_inds[:int(left_inds.shape[0]/2)], left_inds[(int(left_inds.shape[0]/2)+1):]\n",
    "\n",
    "X_train = [nyt_text[ind] for ind in train_inds]\n",
    "y_train = [nyt_labels[ind] for ind in train_inds]\n",
    "X_val = [nyt_text[ind] for ind in val_inds]\n",
    "y_val = [nyt_labels[ind] for ind in val_inds]\n",
    "X_test = [nyt_text[ind] for ind in test_inds]\n",
    "y_test = [nyt_labels[ind] for ind in test_inds]\n",
    "\n",
    "tokenizer = BertTokenizer.from_pretrained('bert-base-uncased')\n",
    "X_train_emb = tokenizer(X_train, max_length=64, truncation=True, padding='max_length')\n",
    "X_val_emb = tokenizer(X_val, max_length=64, truncation=True, padding='max_length')\n",
    "X_test_emb = tokenizer(X_test, max_length=64, truncation=True, padding='max_length')"
   ]
  },
  {
   "cell_type": "code",
   "execution_count": 7,
   "metadata": {
    "id": "9IdJRhtSptl3"
   },
   "outputs": [],
   "source": [
    "class NYTDataset(Dataset):\n",
    "    def __init__(self, encodings, labels):\n",
    "        self.encodings = encodings\n",
    "        self.labels = labels\n",
    "\n",
    "    def __getitem__(self, idx):\n",
    "        item = {key: torch.tensor(val[idx]) for key, val in self.encodings.items()}\n",
    "        item['labels'] = torch.tensor([self.labels[idx]])\n",
    "        return item\n",
    "\n",
    "    def __len__(self):\n",
    "        return len(self.labels)\n",
    "\n",
    "train_dataset = NYTDataset(X_train_emb, y_train)\n",
    "val_dataset = NYTDataset(X_val_emb, y_val)\n",
    "test_dataset = NYTDataset(X_test_emb, y_test)"
   ]
  },
  {
   "cell_type": "code",
   "execution_count": 8,
   "metadata": {
    "colab": {
     "base_uri": "https://localhost:8080/",
     "height": 422,
     "referenced_widgets": [
      "6e565ab268c34f368f531d8386b2a152",
      "7ec0c6b1699547de8a02483c791a71e5",
      "5a9dce87dbb943ff96c17f9e077f00b8",
      "a4e8520a00224449ac51a6409e26642b",
      "8a40be5b5a4b42ee99b7a1fe0eaf7432",
      "d5fcf781be3547d28b2a9d42acad5778",
      "722f511684e340bc85003d47f723b8ea",
      "b84b0c4ab9d148fcb41d278490be569a",
      "6f0e51283ada447b94d110d19a81489c",
      "d6db62ea0f744f14ab1152bda3ac2ff8",
      "f785bceed6b94f6e90036ffe58bef237",
      "22ec5906337e4720b5f4ff5c3d2bfd68",
      "5eaf9ab41b1e46fd82b6a29a1d64bffc",
      "c80366e255494cd0ad0ffbe695c65b04",
      "a8a04e4c750a48f5897a415059bce723",
      "80da9b71399342e1acd638b92c49affe",
      "f1c4d698def34a6f856f20ea70eb75ae",
      "c8d54cae08f64763bb449fe025b21d36",
      "a61916a7f8ee43e78f5b481c1533ba62",
      "ea5d367d532941408df74066053b5b16",
      "042efb85001c4d2c8ec122ae4c8ba7fa",
      "9ba982474cd347f8bf0077fa26d13927",
      "89345f14a8c34523982995a3dc5d6bef",
      "47ad61b2fe554971bb15266ae1d1391e",
      "c5fba371bfe44287bf162ef94fdef8e4",
      "12b4d1e14b564fab90426e7f3d82452d",
      "0c3dca112a474d94baf69e2ec97ba444",
      "6aff389513074cab8fb996ddbdb663e9",
      "1e79dc06b73246e6a7e0c7b648ebf3bd",
      "a4eeac43968c46e2a6f77a9dfc6ee6cf",
      "928a842f39e045919800c237d88ebf4f",
      "8728f383969e429b921092399df3664f",
      "730ce6b4b4644abba182c9e3d5a23870",
      "ca4a298262294937a7efb3ca87b1e2d8",
      "8f29099e66ea416e9275d3d9e1c4cff7",
      "bb052ba1f6e34e82a36c991d2f853b98",
      "c85b55012cbe47ee83d8d8dde6b24cc2",
      "a4b8c0e37ca0478ea6865f82521f470a",
      "19555673910d45f8acf5cd4ef544f86c",
      "eff054ebcd81404f8b5adc49a8f3a798",
      "0c07fa5fa4d14f869bf8ea20b387024b",
      "44a2673bc46e4e7586013cdc0ed66283",
      "76d734e913af414c89ebfa7b6c4120d8",
      "2319878f0bbc449599487a790054d6fd",
      "57e14e7ad977448db83c85bd52cecf8f",
      "d30c52aa212a443aa39114958a163c4e",
      "89cd874587ad401b9f9cfcc2dfcebd83",
      "00c3a7f481ed4fb3868a02b24ca0d6eb"
     ]
    },
    "id": "CD5SiiPf-7DY",
    "outputId": "d1388e4b-f212-4faa-cd02-24ef6f7880a2"
   },
   "outputs": [
    {
     "data": {
      "application/vnd.jupyter.widget-view+json": {
       "model_id": "6e565ab268c34f368f531d8386b2a152",
       "version_major": 2,
       "version_minor": 0
      },
      "text/plain": [
       "HBox(children=(FloatProgress(value=0.0, description='Downloading', max=433.0, style=ProgressStyle(description_…"
      ]
     },
     "metadata": {
      "tags": []
     },
     "output_type": "display_data"
    },
    {
     "name": "stdout",
     "output_type": "stream",
     "text": [
      "\n"
     ]
    },
    {
     "data": {
      "application/vnd.jupyter.widget-view+json": {
       "model_id": "6f0e51283ada447b94d110d19a81489c",
       "version_major": 2,
       "version_minor": 0
      },
      "text/plain": [
       "HBox(children=(FloatProgress(value=0.0, description='Downloading', max=440473133.0, style=ProgressStyle(descri…"
      ]
     },
     "metadata": {
      "tags": []
     },
     "output_type": "display_data"
    },
    {
     "name": "stdout",
     "output_type": "stream",
     "text": [
      "\n"
     ]
    },
    {
     "name": "stderr",
     "output_type": "stream",
     "text": [
      "Some weights of the model checkpoint at bert-base-uncased were not used when initializing BertForSequenceClassification: ['cls.predictions.bias', 'cls.predictions.transform.dense.weight', 'cls.predictions.transform.dense.bias', 'cls.predictions.decoder.weight', 'cls.seq_relationship.weight', 'cls.seq_relationship.bias', 'cls.predictions.transform.LayerNorm.weight', 'cls.predictions.transform.LayerNorm.bias']\n",
      "- This IS expected if you are initializing BertForSequenceClassification from the checkpoint of a model trained on another task or with another architecture (e.g. initializing a BertForSequenceClassification model from a BertForPretraining model).\n",
      "- This IS NOT expected if you are initializing BertForSequenceClassification from the checkpoint of a model that you expect to be exactly identical (initializing a BertForSequenceClassification model from a BertForSequenceClassification model).\n",
      "Some weights of BertForSequenceClassification were not initialized from the model checkpoint at bert-base-uncased and are newly initialized: ['classifier.weight', 'classifier.bias']\n",
      "You should probably TRAIN this model on a down-stream task to be able to use it for predictions and inference.\n"
     ]
    },
    {
     "data": {
      "application/vnd.jupyter.widget-view+json": {
       "model_id": "f1c4d698def34a6f856f20ea70eb75ae",
       "version_major": 2,
       "version_minor": 0
      },
      "text/plain": [
       "HBox(children=(FloatProgress(value=0.0, max=3.0), HTML(value='')))"
      ]
     },
     "metadata": {
      "tags": []
     },
     "output_type": "display_data"
    },
    {
     "data": {
      "application/vnd.jupyter.widget-view+json": {
       "model_id": "c5fba371bfe44287bf162ef94fdef8e4",
       "version_major": 2,
       "version_minor": 0
      },
      "text/plain": [
       "HBox(children=(FloatProgress(value=0.0, max=576.0), HTML(value='')))"
      ]
     },
     "metadata": {
      "tags": []
     },
     "output_type": "display_data"
    },
    {
     "name": "stdout",
     "output_type": "stream",
     "text": [
      "\n"
     ]
    },
    {
     "data": {
      "application/vnd.jupyter.widget-view+json": {
       "model_id": "730ce6b4b4644abba182c9e3d5a23870",
       "version_major": 2,
       "version_minor": 0
      },
      "text/plain": [
       "HBox(children=(FloatProgress(value=0.0, max=576.0), HTML(value='')))"
      ]
     },
     "metadata": {
      "tags": []
     },
     "output_type": "display_data"
    },
    {
     "name": "stdout",
     "output_type": "stream",
     "text": [
      "\n"
     ]
    },
    {
     "data": {
      "application/vnd.jupyter.widget-view+json": {
       "model_id": "0c07fa5fa4d14f869bf8ea20b387024b",
       "version_major": 2,
       "version_minor": 0
      },
      "text/plain": [
       "HBox(children=(FloatProgress(value=0.0, max=576.0), HTML(value='')))"
      ]
     },
     "metadata": {
      "tags": []
     },
     "output_type": "display_data"
    },
    {
     "name": "stdout",
     "output_type": "stream",
     "text": [
      "\n",
      "\n"
     ]
    }
   ],
   "source": [
    "device = torch.device('cuda') if torch.cuda.is_available() else torch.device('cpu')\n",
    "\n",
    "model = BertForSequenceClassification.from_pretrained('bert-base-uncased', num_labels=3)\n",
    "model.to(device)\n",
    "model.train()\n",
    "\n",
    "train_loader = DataLoader(train_dataset, batch_size=16, shuffle=True)\n",
    "\n",
    "optim = AdamW(model.parameters(), lr=5e-5)\n",
    "\n",
    "for epoch in tqdm.tqdm(range(3)):\n",
    "    for batch in tqdm.tqdm(train_loader):\n",
    "        optim.zero_grad()\n",
    "        input_ids = batch['input_ids'].to(device)\n",
    "        attention_mask = batch['attention_mask'].to(device)\n",
    "        labels = batch['labels'].to(device)\n",
    "        outputs = model(input_ids, attention_mask=attention_mask, labels=labels)\n",
    "        loss = outputs[0]\n",
    "        loss.backward()\n",
    "        optim.step()\n",
    "\n",
    "model.eval()\n",
    "\n",
    "model.save_pretrained('finetuned_models')"
   ]
  },
  {
   "cell_type": "code",
   "execution_count": 30,
   "metadata": {
    "colab": {
     "base_uri": "https://localhost:8080/",
     "height": 70
    },
    "id": "kxhdBpIfdz9u",
    "outputId": "05f08d81-3a97-486c-fbfe-a5cb232d49fd"
   },
   "outputs": [
    {
     "name": "stdout",
     "output_type": "stream",
     "text": [
      "Test set acc: 0.9713292788879235\n",
      "Test set macro_f1: 0.9250162818573228\n",
      "Test set micro_f1: 0.9713292788879235\n"
     ]
    }
   ],
   "source": [
    "test_loader = DataLoader(test_dataset, batch_size=4)\n",
    "y_pre = list()\n",
    "for batch in test_loader:\n",
    "    input_ids = batch['input_ids'].to(device)\n",
    "    attention_mask = batch['attention_mask'].to(device)\n",
    "    outputs = model(input_ids, attention_mask=attention_mask)\n",
    "    pre = np.argmax(outputs[0].data.cpu().numpy(), axis=1)\n",
    "    y_pre.extend(pre)\n",
    "\n",
    "print_evaluation(np.array(y_pre), np.array(y_test))"
   ]
  }
 ],
 "metadata": {
  "accelerator": "GPU",
  "colab": {
   "collapsed_sections": [],
   "name": "text_mining_hw1.ipynb",
   "provenance": []
  },
  "kernelspec": {
   "display_name": "Python 3",
   "language": "python",
   "name": "python3"
  },
  "language_info": {
   "codemirror_mode": {
    "name": "ipython",
    "version": 3
   },
   "file_extension": ".py",
   "mimetype": "text/x-python",
   "name": "python",
   "nbconvert_exporter": "python",
   "pygments_lexer": "ipython3",
   "version": "3.6.9"
  },
  "widgets": {
   "application/vnd.jupyter.widget-state+json": {
    "004cfc140e7d432eb7f1efe683abdf97": {
     "model_module": "@jupyter-widgets/controls",
     "model_name": "FloatProgressModel",
     "state": {
      "_dom_classes": [],
      "_model_module": "@jupyter-widgets/controls",
      "_model_module_version": "1.5.0",
      "_model_name": "FloatProgressModel",
      "_view_count": null,
      "_view_module": "@jupyter-widgets/controls",
      "_view_module_version": "1.5.0",
      "_view_name": "ProgressView",
      "bar_style": "success",
      "description": "100%",
      "description_tooltip": null,
      "layout": "IPY_MODEL_f06c0d24e5db4abbacce00c95f16fa74",
      "max": 11519,
      "min": 0,
      "orientation": "horizontal",
      "style": "IPY_MODEL_8550167947244d7ca9032a49d15accdb",
      "value": 11519
     }
    },
    "00c3a7f481ed4fb3868a02b24ca0d6eb": {
     "model_module": "@jupyter-widgets/base",
     "model_name": "LayoutModel",
     "state": {
      "_model_module": "@jupyter-widgets/base",
      "_model_module_version": "1.2.0",
      "_model_name": "LayoutModel",
      "_view_count": null,
      "_view_module": "@jupyter-widgets/base",
      "_view_module_version": "1.2.0",
      "_view_name": "LayoutView",
      "align_content": null,
      "align_items": null,
      "align_self": null,
      "border": null,
      "bottom": null,
      "display": null,
      "flex": null,
      "flex_flow": null,
      "grid_area": null,
      "grid_auto_columns": null,
      "grid_auto_flow": null,
      "grid_auto_rows": null,
      "grid_column": null,
      "grid_gap": null,
      "grid_row": null,
      "grid_template_areas": null,
      "grid_template_columns": null,
      "grid_template_rows": null,
      "height": null,
      "justify_content": null,
      "justify_items": null,
      "left": null,
      "margin": null,
      "max_height": null,
      "max_width": null,
      "min_height": null,
      "min_width": null,
      "object_fit": null,
      "object_position": null,
      "order": null,
      "overflow": null,
      "overflow_x": null,
      "overflow_y": null,
      "padding": null,
      "right": null,
      "top": null,
      "visibility": null,
      "width": null
     }
    },
    "02970b995b144240af97e79069e7f8ef": {
     "model_module": "@jupyter-widgets/base",
     "model_name": "LayoutModel",
     "state": {
      "_model_module": "@jupyter-widgets/base",
      "_model_module_version": "1.2.0",
      "_model_name": "LayoutModel",
      "_view_count": null,
      "_view_module": "@jupyter-widgets/base",
      "_view_module_version": "1.2.0",
      "_view_name": "LayoutView",
      "align_content": null,
      "align_items": null,
      "align_self": null,
      "border": null,
      "bottom": null,
      "display": null,
      "flex": null,
      "flex_flow": null,
      "grid_area": null,
      "grid_auto_columns": null,
      "grid_auto_flow": null,
      "grid_auto_rows": null,
      "grid_column": null,
      "grid_gap": null,
      "grid_row": null,
      "grid_template_areas": null,
      "grid_template_columns": null,
      "grid_template_rows": null,
      "height": null,
      "justify_content": null,
      "justify_items": null,
      "left": null,
      "margin": null,
      "max_height": null,
      "max_width": null,
      "min_height": null,
      "min_width": null,
      "object_fit": null,
      "object_position": null,
      "order": null,
      "overflow": null,
      "overflow_x": null,
      "overflow_y": null,
      "padding": null,
      "right": null,
      "top": null,
      "visibility": null,
      "width": null
     }
    },
    "042efb85001c4d2c8ec122ae4c8ba7fa": {
     "model_module": "@jupyter-widgets/controls",
     "model_name": "ProgressStyleModel",
     "state": {
      "_model_module": "@jupyter-widgets/controls",
      "_model_module_version": "1.5.0",
      "_model_name": "ProgressStyleModel",
      "_view_count": null,
      "_view_module": "@jupyter-widgets/base",
      "_view_module_version": "1.2.0",
      "_view_name": "StyleView",
      "bar_color": null,
      "description_width": "initial"
     }
    },
    "0c07fa5fa4d14f869bf8ea20b387024b": {
     "model_module": "@jupyter-widgets/controls",
     "model_name": "HBoxModel",
     "state": {
      "_dom_classes": [],
      "_model_module": "@jupyter-widgets/controls",
      "_model_module_version": "1.5.0",
      "_model_name": "HBoxModel",
      "_view_count": null,
      "_view_module": "@jupyter-widgets/controls",
      "_view_module_version": "1.5.0",
      "_view_name": "HBoxView",
      "box_style": "",
      "children": [
       "IPY_MODEL_76d734e913af414c89ebfa7b6c4120d8",
       "IPY_MODEL_2319878f0bbc449599487a790054d6fd"
      ],
      "layout": "IPY_MODEL_44a2673bc46e4e7586013cdc0ed66283"
     }
    },
    "0c3dca112a474d94baf69e2ec97ba444": {
     "model_module": "@jupyter-widgets/controls",
     "model_name": "FloatProgressModel",
     "state": {
      "_dom_classes": [],
      "_model_module": "@jupyter-widgets/controls",
      "_model_module_version": "1.5.0",
      "_model_name": "FloatProgressModel",
      "_view_count": null,
      "_view_module": "@jupyter-widgets/controls",
      "_view_module_version": "1.5.0",
      "_view_name": "ProgressView",
      "bar_style": "success",
      "description": "100%",
      "description_tooltip": null,
      "layout": "IPY_MODEL_a4eeac43968c46e2a6f77a9dfc6ee6cf",
      "max": 576,
      "min": 0,
      "orientation": "horizontal",
      "style": "IPY_MODEL_1e79dc06b73246e6a7e0c7b648ebf3bd",
      "value": 576
     }
    },
    "12b4d1e14b564fab90426e7f3d82452d": {
     "model_module": "@jupyter-widgets/base",
     "model_name": "LayoutModel",
     "state": {
      "_model_module": "@jupyter-widgets/base",
      "_model_module_version": "1.2.0",
      "_model_name": "LayoutModel",
      "_view_count": null,
      "_view_module": "@jupyter-widgets/base",
      "_view_module_version": "1.2.0",
      "_view_name": "LayoutView",
      "align_content": null,
      "align_items": null,
      "align_self": null,
      "border": null,
      "bottom": null,
      "display": null,
      "flex": null,
      "flex_flow": null,
      "grid_area": null,
      "grid_auto_columns": null,
      "grid_auto_flow": null,
      "grid_auto_rows": null,
      "grid_column": null,
      "grid_gap": null,
      "grid_row": null,
      "grid_template_areas": null,
      "grid_template_columns": null,
      "grid_template_rows": null,
      "height": null,
      "justify_content": null,
      "justify_items": null,
      "left": null,
      "margin": null,
      "max_height": null,
      "max_width": null,
      "min_height": null,
      "min_width": null,
      "object_fit": null,
      "object_position": null,
      "order": null,
      "overflow": null,
      "overflow_x": null,
      "overflow_y": null,
      "padding": null,
      "right": null,
      "top": null,
      "visibility": null,
      "width": null
     }
    },
    "19555673910d45f8acf5cd4ef544f86c": {
     "model_module": "@jupyter-widgets/controls",
     "model_name": "DescriptionStyleModel",
     "state": {
      "_model_module": "@jupyter-widgets/controls",
      "_model_module_version": "1.5.0",
      "_model_name": "DescriptionStyleModel",
      "_view_count": null,
      "_view_module": "@jupyter-widgets/base",
      "_view_module_version": "1.2.0",
      "_view_name": "StyleView",
      "description_width": ""
     }
    },
    "1e79dc06b73246e6a7e0c7b648ebf3bd": {
     "model_module": "@jupyter-widgets/controls",
     "model_name": "ProgressStyleModel",
     "state": {
      "_model_module": "@jupyter-widgets/controls",
      "_model_module_version": "1.5.0",
      "_model_name": "ProgressStyleModel",
      "_view_count": null,
      "_view_module": "@jupyter-widgets/base",
      "_view_module_version": "1.2.0",
      "_view_name": "StyleView",
      "bar_color": null,
      "description_width": "initial"
     }
    },
    "22ec5906337e4720b5f4ff5c3d2bfd68": {
     "model_module": "@jupyter-widgets/controls",
     "model_name": "HTMLModel",
     "state": {
      "_dom_classes": [],
      "_model_module": "@jupyter-widgets/controls",
      "_model_module_version": "1.5.0",
      "_model_name": "HTMLModel",
      "_view_count": null,
      "_view_module": "@jupyter-widgets/controls",
      "_view_module_version": "1.5.0",
      "_view_name": "HTMLView",
      "description": "",
      "description_tooltip": null,
      "layout": "IPY_MODEL_80da9b71399342e1acd638b92c49affe",
      "placeholder": "​",
      "style": "IPY_MODEL_a8a04e4c750a48f5897a415059bce723",
      "value": " 440M/440M [00:06&lt;00:00, 68.4MB/s]"
     }
    },
    "2319878f0bbc449599487a790054d6fd": {
     "model_module": "@jupyter-widgets/controls",
     "model_name": "HTMLModel",
     "state": {
      "_dom_classes": [],
      "_model_module": "@jupyter-widgets/controls",
      "_model_module_version": "1.5.0",
      "_model_name": "HTMLModel",
      "_view_count": null,
      "_view_module": "@jupyter-widgets/controls",
      "_view_module_version": "1.5.0",
      "_view_name": "HTMLView",
      "description": "",
      "description_tooltip": null,
      "layout": "IPY_MODEL_00c3a7f481ed4fb3868a02b24ca0d6eb",
      "placeholder": "​",
      "style": "IPY_MODEL_89cd874587ad401b9f9cfcc2dfcebd83",
      "value": " 576/576 [03:09&lt;00:00,  3.04it/s]"
     }
    },
    "2ede9354acba4316b576c80b9e4dd9ae": {
     "model_module": "@jupyter-widgets/controls",
     "model_name": "HBoxModel",
     "state": {
      "_dom_classes": [],
      "_model_module": "@jupyter-widgets/controls",
      "_model_module_version": "1.5.0",
      "_model_name": "HBoxModel",
      "_view_count": null,
      "_view_module": "@jupyter-widgets/controls",
      "_view_module_version": "1.5.0",
      "_view_name": "HBoxView",
      "box_style": "",
      "children": [
       "IPY_MODEL_3fe085b5213e4801aae24fadf4f257b6",
       "IPY_MODEL_569f87485656450d849e855e2765a5b6"
      ],
      "layout": "IPY_MODEL_cb4c3c6fc9094aafa6a8fc38a9fec72e"
     }
    },
    "3fe085b5213e4801aae24fadf4f257b6": {
     "model_module": "@jupyter-widgets/controls",
     "model_name": "FloatProgressModel",
     "state": {
      "_dom_classes": [],
      "_model_module": "@jupyter-widgets/controls",
      "_model_module_version": "1.5.0",
      "_model_name": "FloatProgressModel",
      "_view_count": null,
      "_view_module": "@jupyter-widgets/controls",
      "_view_module_version": "1.5.0",
      "_view_name": "ProgressView",
      "bar_style": "success",
      "description": "Downloading: 100%",
      "description_tooltip": null,
      "layout": "IPY_MODEL_c54378b882714293bca49f1e5eadf580",
      "max": 231508,
      "min": 0,
      "orientation": "horizontal",
      "style": "IPY_MODEL_c49b7820941a4ba1b77ff046f46ac271",
      "value": 231508
     }
    },
    "44a2673bc46e4e7586013cdc0ed66283": {
     "model_module": "@jupyter-widgets/base",
     "model_name": "LayoutModel",
     "state": {
      "_model_module": "@jupyter-widgets/base",
      "_model_module_version": "1.2.0",
      "_model_name": "LayoutModel",
      "_view_count": null,
      "_view_module": "@jupyter-widgets/base",
      "_view_module_version": "1.2.0",
      "_view_name": "LayoutView",
      "align_content": null,
      "align_items": null,
      "align_self": null,
      "border": null,
      "bottom": null,
      "display": null,
      "flex": null,
      "flex_flow": null,
      "grid_area": null,
      "grid_auto_columns": null,
      "grid_auto_flow": null,
      "grid_auto_rows": null,
      "grid_column": null,
      "grid_gap": null,
      "grid_row": null,
      "grid_template_areas": null,
      "grid_template_columns": null,
      "grid_template_rows": null,
      "height": null,
      "justify_content": null,
      "justify_items": null,
      "left": null,
      "margin": null,
      "max_height": null,
      "max_width": null,
      "min_height": null,
      "min_width": null,
      "object_fit": null,
      "object_position": null,
      "order": null,
      "overflow": null,
      "overflow_x": null,
      "overflow_y": null,
      "padding": null,
      "right": null,
      "top": null,
      "visibility": null,
      "width": null
     }
    },
    "47ad61b2fe554971bb15266ae1d1391e": {
     "model_module": "@jupyter-widgets/base",
     "model_name": "LayoutModel",
     "state": {
      "_model_module": "@jupyter-widgets/base",
      "_model_module_version": "1.2.0",
      "_model_name": "LayoutModel",
      "_view_count": null,
      "_view_module": "@jupyter-widgets/base",
      "_view_module_version": "1.2.0",
      "_view_name": "LayoutView",
      "align_content": null,
      "align_items": null,
      "align_self": null,
      "border": null,
      "bottom": null,
      "display": null,
      "flex": null,
      "flex_flow": null,
      "grid_area": null,
      "grid_auto_columns": null,
      "grid_auto_flow": null,
      "grid_auto_rows": null,
      "grid_column": null,
      "grid_gap": null,
      "grid_row": null,
      "grid_template_areas": null,
      "grid_template_columns": null,
      "grid_template_rows": null,
      "height": null,
      "justify_content": null,
      "justify_items": null,
      "left": null,
      "margin": null,
      "max_height": null,
      "max_width": null,
      "min_height": null,
      "min_width": null,
      "object_fit": null,
      "object_position": null,
      "order": null,
      "overflow": null,
      "overflow_x": null,
      "overflow_y": null,
      "padding": null,
      "right": null,
      "top": null,
      "visibility": null,
      "width": null
     }
    },
    "569f87485656450d849e855e2765a5b6": {
     "model_module": "@jupyter-widgets/controls",
     "model_name": "HTMLModel",
     "state": {
      "_dom_classes": [],
      "_model_module": "@jupyter-widgets/controls",
      "_model_module_version": "1.5.0",
      "_model_name": "HTMLModel",
      "_view_count": null,
      "_view_module": "@jupyter-widgets/controls",
      "_view_module_version": "1.5.0",
      "_view_name": "HTMLView",
      "description": "",
      "description_tooltip": null,
      "layout": "IPY_MODEL_02970b995b144240af97e79069e7f8ef",
      "placeholder": "​",
      "style": "IPY_MODEL_f3489e9bec764f49811fcab967ca82bb",
      "value": " 232k/232k [00:00&lt;00:00, 731kB/s]"
     }
    },
    "57e14e7ad977448db83c85bd52cecf8f": {
     "model_module": "@jupyter-widgets/controls",
     "model_name": "ProgressStyleModel",
     "state": {
      "_model_module": "@jupyter-widgets/controls",
      "_model_module_version": "1.5.0",
      "_model_name": "ProgressStyleModel",
      "_view_count": null,
      "_view_module": "@jupyter-widgets/base",
      "_view_module_version": "1.2.0",
      "_view_name": "StyleView",
      "bar_color": null,
      "description_width": "initial"
     }
    },
    "5a9dce87dbb943ff96c17f9e077f00b8": {
     "model_module": "@jupyter-widgets/controls",
     "model_name": "FloatProgressModel",
     "state": {
      "_dom_classes": [],
      "_model_module": "@jupyter-widgets/controls",
      "_model_module_version": "1.5.0",
      "_model_name": "FloatProgressModel",
      "_view_count": null,
      "_view_module": "@jupyter-widgets/controls",
      "_view_module_version": "1.5.0",
      "_view_name": "ProgressView",
      "bar_style": "success",
      "description": "Downloading: 100%",
      "description_tooltip": null,
      "layout": "IPY_MODEL_d5fcf781be3547d28b2a9d42acad5778",
      "max": 433,
      "min": 0,
      "orientation": "horizontal",
      "style": "IPY_MODEL_8a40be5b5a4b42ee99b7a1fe0eaf7432",
      "value": 433
     }
    },
    "5eaf9ab41b1e46fd82b6a29a1d64bffc": {
     "model_module": "@jupyter-widgets/controls",
     "model_name": "ProgressStyleModel",
     "state": {
      "_model_module": "@jupyter-widgets/controls",
      "_model_module_version": "1.5.0",
      "_model_name": "ProgressStyleModel",
      "_view_count": null,
      "_view_module": "@jupyter-widgets/base",
      "_view_module_version": "1.2.0",
      "_view_name": "StyleView",
      "bar_color": null,
      "description_width": "initial"
     }
    },
    "6aff389513074cab8fb996ddbdb663e9": {
     "model_module": "@jupyter-widgets/controls",
     "model_name": "HTMLModel",
     "state": {
      "_dom_classes": [],
      "_model_module": "@jupyter-widgets/controls",
      "_model_module_version": "1.5.0",
      "_model_name": "HTMLModel",
      "_view_count": null,
      "_view_module": "@jupyter-widgets/controls",
      "_view_module_version": "1.5.0",
      "_view_name": "HTMLView",
      "description": "",
      "description_tooltip": null,
      "layout": "IPY_MODEL_8728f383969e429b921092399df3664f",
      "placeholder": "​",
      "style": "IPY_MODEL_928a842f39e045919800c237d88ebf4f",
      "value": " 576/576 [07:11&lt;00:00,  1.33it/s]"
     }
    },
    "6e565ab268c34f368f531d8386b2a152": {
     "model_module": "@jupyter-widgets/controls",
     "model_name": "HBoxModel",
     "state": {
      "_dom_classes": [],
      "_model_module": "@jupyter-widgets/controls",
      "_model_module_version": "1.5.0",
      "_model_name": "HBoxModel",
      "_view_count": null,
      "_view_module": "@jupyter-widgets/controls",
      "_view_module_version": "1.5.0",
      "_view_name": "HBoxView",
      "box_style": "",
      "children": [
       "IPY_MODEL_5a9dce87dbb943ff96c17f9e077f00b8",
       "IPY_MODEL_a4e8520a00224449ac51a6409e26642b"
      ],
      "layout": "IPY_MODEL_7ec0c6b1699547de8a02483c791a71e5"
     }
    },
    "6f0e51283ada447b94d110d19a81489c": {
     "model_module": "@jupyter-widgets/controls",
     "model_name": "HBoxModel",
     "state": {
      "_dom_classes": [],
      "_model_module": "@jupyter-widgets/controls",
      "_model_module_version": "1.5.0",
      "_model_name": "HBoxModel",
      "_view_count": null,
      "_view_module": "@jupyter-widgets/controls",
      "_view_module_version": "1.5.0",
      "_view_name": "HBoxView",
      "box_style": "",
      "children": [
       "IPY_MODEL_f785bceed6b94f6e90036ffe58bef237",
       "IPY_MODEL_22ec5906337e4720b5f4ff5c3d2bfd68"
      ],
      "layout": "IPY_MODEL_d6db62ea0f744f14ab1152bda3ac2ff8"
     }
    },
    "715c16a44a6b43679e44bb91f0321964": {
     "model_module": "@jupyter-widgets/controls",
     "model_name": "HBoxModel",
     "state": {
      "_dom_classes": [],
      "_model_module": "@jupyter-widgets/controls",
      "_model_module_version": "1.5.0",
      "_model_name": "HBoxModel",
      "_view_count": null,
      "_view_module": "@jupyter-widgets/controls",
      "_view_module_version": "1.5.0",
      "_view_name": "HBoxView",
      "box_style": "",
      "children": [
       "IPY_MODEL_004cfc140e7d432eb7f1efe683abdf97",
       "IPY_MODEL_b02a8ee730074efcaf4f98a24bc1d089"
      ],
      "layout": "IPY_MODEL_9653beecfa964ec3bda81ea7f5465446"
     }
    },
    "722f511684e340bc85003d47f723b8ea": {
     "model_module": "@jupyter-widgets/controls",
     "model_name": "DescriptionStyleModel",
     "state": {
      "_model_module": "@jupyter-widgets/controls",
      "_model_module_version": "1.5.0",
      "_model_name": "DescriptionStyleModel",
      "_view_count": null,
      "_view_module": "@jupyter-widgets/base",
      "_view_module_version": "1.2.0",
      "_view_name": "StyleView",
      "description_width": ""
     }
    },
    "730ce6b4b4644abba182c9e3d5a23870": {
     "model_module": "@jupyter-widgets/controls",
     "model_name": "HBoxModel",
     "state": {
      "_dom_classes": [],
      "_model_module": "@jupyter-widgets/controls",
      "_model_module_version": "1.5.0",
      "_model_name": "HBoxModel",
      "_view_count": null,
      "_view_module": "@jupyter-widgets/controls",
      "_view_module_version": "1.5.0",
      "_view_name": "HBoxView",
      "box_style": "",
      "children": [
       "IPY_MODEL_8f29099e66ea416e9275d3d9e1c4cff7",
       "IPY_MODEL_bb052ba1f6e34e82a36c991d2f853b98"
      ],
      "layout": "IPY_MODEL_ca4a298262294937a7efb3ca87b1e2d8"
     }
    },
    "76d734e913af414c89ebfa7b6c4120d8": {
     "model_module": "@jupyter-widgets/controls",
     "model_name": "FloatProgressModel",
     "state": {
      "_dom_classes": [],
      "_model_module": "@jupyter-widgets/controls",
      "_model_module_version": "1.5.0",
      "_model_name": "FloatProgressModel",
      "_view_count": null,
      "_view_module": "@jupyter-widgets/controls",
      "_view_module_version": "1.5.0",
      "_view_name": "ProgressView",
      "bar_style": "success",
      "description": "100%",
      "description_tooltip": null,
      "layout": "IPY_MODEL_d30c52aa212a443aa39114958a163c4e",
      "max": 576,
      "min": 0,
      "orientation": "horizontal",
      "style": "IPY_MODEL_57e14e7ad977448db83c85bd52cecf8f",
      "value": 576
     }
    },
    "7ec0c6b1699547de8a02483c791a71e5": {
     "model_module": "@jupyter-widgets/base",
     "model_name": "LayoutModel",
     "state": {
      "_model_module": "@jupyter-widgets/base",
      "_model_module_version": "1.2.0",
      "_model_name": "LayoutModel",
      "_view_count": null,
      "_view_module": "@jupyter-widgets/base",
      "_view_module_version": "1.2.0",
      "_view_name": "LayoutView",
      "align_content": null,
      "align_items": null,
      "align_self": null,
      "border": null,
      "bottom": null,
      "display": null,
      "flex": null,
      "flex_flow": null,
      "grid_area": null,
      "grid_auto_columns": null,
      "grid_auto_flow": null,
      "grid_auto_rows": null,
      "grid_column": null,
      "grid_gap": null,
      "grid_row": null,
      "grid_template_areas": null,
      "grid_template_columns": null,
      "grid_template_rows": null,
      "height": null,
      "justify_content": null,
      "justify_items": null,
      "left": null,
      "margin": null,
      "max_height": null,
      "max_width": null,
      "min_height": null,
      "min_width": null,
      "object_fit": null,
      "object_position": null,
      "order": null,
      "overflow": null,
      "overflow_x": null,
      "overflow_y": null,
      "padding": null,
      "right": null,
      "top": null,
      "visibility": null,
      "width": null
     }
    },
    "80da9b71399342e1acd638b92c49affe": {
     "model_module": "@jupyter-widgets/base",
     "model_name": "LayoutModel",
     "state": {
      "_model_module": "@jupyter-widgets/base",
      "_model_module_version": "1.2.0",
      "_model_name": "LayoutModel",
      "_view_count": null,
      "_view_module": "@jupyter-widgets/base",
      "_view_module_version": "1.2.0",
      "_view_name": "LayoutView",
      "align_content": null,
      "align_items": null,
      "align_self": null,
      "border": null,
      "bottom": null,
      "display": null,
      "flex": null,
      "flex_flow": null,
      "grid_area": null,
      "grid_auto_columns": null,
      "grid_auto_flow": null,
      "grid_auto_rows": null,
      "grid_column": null,
      "grid_gap": null,
      "grid_row": null,
      "grid_template_areas": null,
      "grid_template_columns": null,
      "grid_template_rows": null,
      "height": null,
      "justify_content": null,
      "justify_items": null,
      "left": null,
      "margin": null,
      "max_height": null,
      "max_width": null,
      "min_height": null,
      "min_width": null,
      "object_fit": null,
      "object_position": null,
      "order": null,
      "overflow": null,
      "overflow_x": null,
      "overflow_y": null,
      "padding": null,
      "right": null,
      "top": null,
      "visibility": null,
      "width": null
     }
    },
    "8550167947244d7ca9032a49d15accdb": {
     "model_module": "@jupyter-widgets/controls",
     "model_name": "ProgressStyleModel",
     "state": {
      "_model_module": "@jupyter-widgets/controls",
      "_model_module_version": "1.5.0",
      "_model_name": "ProgressStyleModel",
      "_view_count": null,
      "_view_module": "@jupyter-widgets/base",
      "_view_module_version": "1.2.0",
      "_view_name": "StyleView",
      "bar_color": null,
      "description_width": "initial"
     }
    },
    "8728f383969e429b921092399df3664f": {
     "model_module": "@jupyter-widgets/base",
     "model_name": "LayoutModel",
     "state": {
      "_model_module": "@jupyter-widgets/base",
      "_model_module_version": "1.2.0",
      "_model_name": "LayoutModel",
      "_view_count": null,
      "_view_module": "@jupyter-widgets/base",
      "_view_module_version": "1.2.0",
      "_view_name": "LayoutView",
      "align_content": null,
      "align_items": null,
      "align_self": null,
      "border": null,
      "bottom": null,
      "display": null,
      "flex": null,
      "flex_flow": null,
      "grid_area": null,
      "grid_auto_columns": null,
      "grid_auto_flow": null,
      "grid_auto_rows": null,
      "grid_column": null,
      "grid_gap": null,
      "grid_row": null,
      "grid_template_areas": null,
      "grid_template_columns": null,
      "grid_template_rows": null,
      "height": null,
      "justify_content": null,
      "justify_items": null,
      "left": null,
      "margin": null,
      "max_height": null,
      "max_width": null,
      "min_height": null,
      "min_width": null,
      "object_fit": null,
      "object_position": null,
      "order": null,
      "overflow": null,
      "overflow_x": null,
      "overflow_y": null,
      "padding": null,
      "right": null,
      "top": null,
      "visibility": null,
      "width": null
     }
    },
    "89345f14a8c34523982995a3dc5d6bef": {
     "model_module": "@jupyter-widgets/controls",
     "model_name": "DescriptionStyleModel",
     "state": {
      "_model_module": "@jupyter-widgets/controls",
      "_model_module_version": "1.5.0",
      "_model_name": "DescriptionStyleModel",
      "_view_count": null,
      "_view_module": "@jupyter-widgets/base",
      "_view_module_version": "1.2.0",
      "_view_name": "StyleView",
      "description_width": ""
     }
    },
    "89cd874587ad401b9f9cfcc2dfcebd83": {
     "model_module": "@jupyter-widgets/controls",
     "model_name": "DescriptionStyleModel",
     "state": {
      "_model_module": "@jupyter-widgets/controls",
      "_model_module_version": "1.5.0",
      "_model_name": "DescriptionStyleModel",
      "_view_count": null,
      "_view_module": "@jupyter-widgets/base",
      "_view_module_version": "1.2.0",
      "_view_name": "StyleView",
      "description_width": ""
     }
    },
    "8a40be5b5a4b42ee99b7a1fe0eaf7432": {
     "model_module": "@jupyter-widgets/controls",
     "model_name": "ProgressStyleModel",
     "state": {
      "_model_module": "@jupyter-widgets/controls",
      "_model_module_version": "1.5.0",
      "_model_name": "ProgressStyleModel",
      "_view_count": null,
      "_view_module": "@jupyter-widgets/base",
      "_view_module_version": "1.2.0",
      "_view_name": "StyleView",
      "bar_color": null,
      "description_width": "initial"
     }
    },
    "8f29099e66ea416e9275d3d9e1c4cff7": {
     "model_module": "@jupyter-widgets/controls",
     "model_name": "FloatProgressModel",
     "state": {
      "_dom_classes": [],
      "_model_module": "@jupyter-widgets/controls",
      "_model_module_version": "1.5.0",
      "_model_name": "FloatProgressModel",
      "_view_count": null,
      "_view_module": "@jupyter-widgets/controls",
      "_view_module_version": "1.5.0",
      "_view_name": "ProgressView",
      "bar_style": "success",
      "description": "100%",
      "description_tooltip": null,
      "layout": "IPY_MODEL_a4b8c0e37ca0478ea6865f82521f470a",
      "max": 576,
      "min": 0,
      "orientation": "horizontal",
      "style": "IPY_MODEL_c85b55012cbe47ee83d8d8dde6b24cc2",
      "value": 576
     }
    },
    "928a842f39e045919800c237d88ebf4f": {
     "model_module": "@jupyter-widgets/controls",
     "model_name": "DescriptionStyleModel",
     "state": {
      "_model_module": "@jupyter-widgets/controls",
      "_model_module_version": "1.5.0",
      "_model_name": "DescriptionStyleModel",
      "_view_count": null,
      "_view_module": "@jupyter-widgets/base",
      "_view_module_version": "1.2.0",
      "_view_name": "StyleView",
      "description_width": ""
     }
    },
    "9653beecfa964ec3bda81ea7f5465446": {
     "model_module": "@jupyter-widgets/base",
     "model_name": "LayoutModel",
     "state": {
      "_model_module": "@jupyter-widgets/base",
      "_model_module_version": "1.2.0",
      "_model_name": "LayoutModel",
      "_view_count": null,
      "_view_module": "@jupyter-widgets/base",
      "_view_module_version": "1.2.0",
      "_view_name": "LayoutView",
      "align_content": null,
      "align_items": null,
      "align_self": null,
      "border": null,
      "bottom": null,
      "display": null,
      "flex": null,
      "flex_flow": null,
      "grid_area": null,
      "grid_auto_columns": null,
      "grid_auto_flow": null,
      "grid_auto_rows": null,
      "grid_column": null,
      "grid_gap": null,
      "grid_row": null,
      "grid_template_areas": null,
      "grid_template_columns": null,
      "grid_template_rows": null,
      "height": null,
      "justify_content": null,
      "justify_items": null,
      "left": null,
      "margin": null,
      "max_height": null,
      "max_width": null,
      "min_height": null,
      "min_width": null,
      "object_fit": null,
      "object_position": null,
      "order": null,
      "overflow": null,
      "overflow_x": null,
      "overflow_y": null,
      "padding": null,
      "right": null,
      "top": null,
      "visibility": null,
      "width": null
     }
    },
    "9ba982474cd347f8bf0077fa26d13927": {
     "model_module": "@jupyter-widgets/base",
     "model_name": "LayoutModel",
     "state": {
      "_model_module": "@jupyter-widgets/base",
      "_model_module_version": "1.2.0",
      "_model_name": "LayoutModel",
      "_view_count": null,
      "_view_module": "@jupyter-widgets/base",
      "_view_module_version": "1.2.0",
      "_view_name": "LayoutView",
      "align_content": null,
      "align_items": null,
      "align_self": null,
      "border": null,
      "bottom": null,
      "display": null,
      "flex": null,
      "flex_flow": null,
      "grid_area": null,
      "grid_auto_columns": null,
      "grid_auto_flow": null,
      "grid_auto_rows": null,
      "grid_column": null,
      "grid_gap": null,
      "grid_row": null,
      "grid_template_areas": null,
      "grid_template_columns": null,
      "grid_template_rows": null,
      "height": null,
      "justify_content": null,
      "justify_items": null,
      "left": null,
      "margin": null,
      "max_height": null,
      "max_width": null,
      "min_height": null,
      "min_width": null,
      "object_fit": null,
      "object_position": null,
      "order": null,
      "overflow": null,
      "overflow_x": null,
      "overflow_y": null,
      "padding": null,
      "right": null,
      "top": null,
      "visibility": null,
      "width": null
     }
    },
    "a4b8c0e37ca0478ea6865f82521f470a": {
     "model_module": "@jupyter-widgets/base",
     "model_name": "LayoutModel",
     "state": {
      "_model_module": "@jupyter-widgets/base",
      "_model_module_version": "1.2.0",
      "_model_name": "LayoutModel",
      "_view_count": null,
      "_view_module": "@jupyter-widgets/base",
      "_view_module_version": "1.2.0",
      "_view_name": "LayoutView",
      "align_content": null,
      "align_items": null,
      "align_self": null,
      "border": null,
      "bottom": null,
      "display": null,
      "flex": null,
      "flex_flow": null,
      "grid_area": null,
      "grid_auto_columns": null,
      "grid_auto_flow": null,
      "grid_auto_rows": null,
      "grid_column": null,
      "grid_gap": null,
      "grid_row": null,
      "grid_template_areas": null,
      "grid_template_columns": null,
      "grid_template_rows": null,
      "height": null,
      "justify_content": null,
      "justify_items": null,
      "left": null,
      "margin": null,
      "max_height": null,
      "max_width": null,
      "min_height": null,
      "min_width": null,
      "object_fit": null,
      "object_position": null,
      "order": null,
      "overflow": null,
      "overflow_x": null,
      "overflow_y": null,
      "padding": null,
      "right": null,
      "top": null,
      "visibility": null,
      "width": null
     }
    },
    "a4e8520a00224449ac51a6409e26642b": {
     "model_module": "@jupyter-widgets/controls",
     "model_name": "HTMLModel",
     "state": {
      "_dom_classes": [],
      "_model_module": "@jupyter-widgets/controls",
      "_model_module_version": "1.5.0",
      "_model_name": "HTMLModel",
      "_view_count": null,
      "_view_module": "@jupyter-widgets/controls",
      "_view_module_version": "1.5.0",
      "_view_name": "HTMLView",
      "description": "",
      "description_tooltip": null,
      "layout": "IPY_MODEL_b84b0c4ab9d148fcb41d278490be569a",
      "placeholder": "​",
      "style": "IPY_MODEL_722f511684e340bc85003d47f723b8ea",
      "value": " 433/433 [00:06&lt;00:00, 65.7B/s]"
     }
    },
    "a4eeac43968c46e2a6f77a9dfc6ee6cf": {
     "model_module": "@jupyter-widgets/base",
     "model_name": "LayoutModel",
     "state": {
      "_model_module": "@jupyter-widgets/base",
      "_model_module_version": "1.2.0",
      "_model_name": "LayoutModel",
      "_view_count": null,
      "_view_module": "@jupyter-widgets/base",
      "_view_module_version": "1.2.0",
      "_view_name": "LayoutView",
      "align_content": null,
      "align_items": null,
      "align_self": null,
      "border": null,
      "bottom": null,
      "display": null,
      "flex": null,
      "flex_flow": null,
      "grid_area": null,
      "grid_auto_columns": null,
      "grid_auto_flow": null,
      "grid_auto_rows": null,
      "grid_column": null,
      "grid_gap": null,
      "grid_row": null,
      "grid_template_areas": null,
      "grid_template_columns": null,
      "grid_template_rows": null,
      "height": null,
      "justify_content": null,
      "justify_items": null,
      "left": null,
      "margin": null,
      "max_height": null,
      "max_width": null,
      "min_height": null,
      "min_width": null,
      "object_fit": null,
      "object_position": null,
      "order": null,
      "overflow": null,
      "overflow_x": null,
      "overflow_y": null,
      "padding": null,
      "right": null,
      "top": null,
      "visibility": null,
      "width": null
     }
    },
    "a61916a7f8ee43e78f5b481c1533ba62": {
     "model_module": "@jupyter-widgets/controls",
     "model_name": "FloatProgressModel",
     "state": {
      "_dom_classes": [],
      "_model_module": "@jupyter-widgets/controls",
      "_model_module_version": "1.5.0",
      "_model_name": "FloatProgressModel",
      "_view_count": null,
      "_view_module": "@jupyter-widgets/controls",
      "_view_module_version": "1.5.0",
      "_view_name": "ProgressView",
      "bar_style": "success",
      "description": "100%",
      "description_tooltip": null,
      "layout": "IPY_MODEL_9ba982474cd347f8bf0077fa26d13927",
      "max": 3,
      "min": 0,
      "orientation": "horizontal",
      "style": "IPY_MODEL_042efb85001c4d2c8ec122ae4c8ba7fa",
      "value": 3
     }
    },
    "a8a04e4c750a48f5897a415059bce723": {
     "model_module": "@jupyter-widgets/controls",
     "model_name": "DescriptionStyleModel",
     "state": {
      "_model_module": "@jupyter-widgets/controls",
      "_model_module_version": "1.5.0",
      "_model_name": "DescriptionStyleModel",
      "_view_count": null,
      "_view_module": "@jupyter-widgets/base",
      "_view_module_version": "1.2.0",
      "_view_name": "StyleView",
      "description_width": ""
     }
    },
    "b02a8ee730074efcaf4f98a24bc1d089": {
     "model_module": "@jupyter-widgets/controls",
     "model_name": "HTMLModel",
     "state": {
      "_dom_classes": [],
      "_model_module": "@jupyter-widgets/controls",
      "_model_module_version": "1.5.0",
      "_model_name": "HTMLModel",
      "_view_count": null,
      "_view_module": "@jupyter-widgets/controls",
      "_view_module_version": "1.5.0",
      "_view_name": "HTMLView",
      "description": "",
      "description_tooltip": null,
      "layout": "IPY_MODEL_c6a7e4490e904dcf9a35b12187f69d16",
      "placeholder": "​",
      "style": "IPY_MODEL_ce8ff3ada6a64d518aa581e382eef5b9",
      "value": " 11519/11519 [01:56&lt;00:00, 98.97it/s]"
     }
    },
    "b84b0c4ab9d148fcb41d278490be569a": {
     "model_module": "@jupyter-widgets/base",
     "model_name": "LayoutModel",
     "state": {
      "_model_module": "@jupyter-widgets/base",
      "_model_module_version": "1.2.0",
      "_model_name": "LayoutModel",
      "_view_count": null,
      "_view_module": "@jupyter-widgets/base",
      "_view_module_version": "1.2.0",
      "_view_name": "LayoutView",
      "align_content": null,
      "align_items": null,
      "align_self": null,
      "border": null,
      "bottom": null,
      "display": null,
      "flex": null,
      "flex_flow": null,
      "grid_area": null,
      "grid_auto_columns": null,
      "grid_auto_flow": null,
      "grid_auto_rows": null,
      "grid_column": null,
      "grid_gap": null,
      "grid_row": null,
      "grid_template_areas": null,
      "grid_template_columns": null,
      "grid_template_rows": null,
      "height": null,
      "justify_content": null,
      "justify_items": null,
      "left": null,
      "margin": null,
      "max_height": null,
      "max_width": null,
      "min_height": null,
      "min_width": null,
      "object_fit": null,
      "object_position": null,
      "order": null,
      "overflow": null,
      "overflow_x": null,
      "overflow_y": null,
      "padding": null,
      "right": null,
      "top": null,
      "visibility": null,
      "width": null
     }
    },
    "bb052ba1f6e34e82a36c991d2f853b98": {
     "model_module": "@jupyter-widgets/controls",
     "model_name": "HTMLModel",
     "state": {
      "_dom_classes": [],
      "_model_module": "@jupyter-widgets/controls",
      "_model_module_version": "1.5.0",
      "_model_name": "HTMLModel",
      "_view_count": null,
      "_view_module": "@jupyter-widgets/controls",
      "_view_module_version": "1.5.0",
      "_view_name": "HTMLView",
      "description": "",
      "description_tooltip": null,
      "layout": "IPY_MODEL_eff054ebcd81404f8b5adc49a8f3a798",
      "placeholder": "​",
      "style": "IPY_MODEL_19555673910d45f8acf5cd4ef544f86c",
      "value": " 576/576 [05:12&lt;00:00,  1.84it/s]"
     }
    },
    "c49b7820941a4ba1b77ff046f46ac271": {
     "model_module": "@jupyter-widgets/controls",
     "model_name": "ProgressStyleModel",
     "state": {
      "_model_module": "@jupyter-widgets/controls",
      "_model_module_version": "1.5.0",
      "_model_name": "ProgressStyleModel",
      "_view_count": null,
      "_view_module": "@jupyter-widgets/base",
      "_view_module_version": "1.2.0",
      "_view_name": "StyleView",
      "bar_color": null,
      "description_width": "initial"
     }
    },
    "c54378b882714293bca49f1e5eadf580": {
     "model_module": "@jupyter-widgets/base",
     "model_name": "LayoutModel",
     "state": {
      "_model_module": "@jupyter-widgets/base",
      "_model_module_version": "1.2.0",
      "_model_name": "LayoutModel",
      "_view_count": null,
      "_view_module": "@jupyter-widgets/base",
      "_view_module_version": "1.2.0",
      "_view_name": "LayoutView",
      "align_content": null,
      "align_items": null,
      "align_self": null,
      "border": null,
      "bottom": null,
      "display": null,
      "flex": null,
      "flex_flow": null,
      "grid_area": null,
      "grid_auto_columns": null,
      "grid_auto_flow": null,
      "grid_auto_rows": null,
      "grid_column": null,
      "grid_gap": null,
      "grid_row": null,
      "grid_template_areas": null,
      "grid_template_columns": null,
      "grid_template_rows": null,
      "height": null,
      "justify_content": null,
      "justify_items": null,
      "left": null,
      "margin": null,
      "max_height": null,
      "max_width": null,
      "min_height": null,
      "min_width": null,
      "object_fit": null,
      "object_position": null,
      "order": null,
      "overflow": null,
      "overflow_x": null,
      "overflow_y": null,
      "padding": null,
      "right": null,
      "top": null,
      "visibility": null,
      "width": null
     }
    },
    "c5fba371bfe44287bf162ef94fdef8e4": {
     "model_module": "@jupyter-widgets/controls",
     "model_name": "HBoxModel",
     "state": {
      "_dom_classes": [],
      "_model_module": "@jupyter-widgets/controls",
      "_model_module_version": "1.5.0",
      "_model_name": "HBoxModel",
      "_view_count": null,
      "_view_module": "@jupyter-widgets/controls",
      "_view_module_version": "1.5.0",
      "_view_name": "HBoxView",
      "box_style": "",
      "children": [
       "IPY_MODEL_0c3dca112a474d94baf69e2ec97ba444",
       "IPY_MODEL_6aff389513074cab8fb996ddbdb663e9"
      ],
      "layout": "IPY_MODEL_12b4d1e14b564fab90426e7f3d82452d"
     }
    },
    "c6a7e4490e904dcf9a35b12187f69d16": {
     "model_module": "@jupyter-widgets/base",
     "model_name": "LayoutModel",
     "state": {
      "_model_module": "@jupyter-widgets/base",
      "_model_module_version": "1.2.0",
      "_model_name": "LayoutModel",
      "_view_count": null,
      "_view_module": "@jupyter-widgets/base",
      "_view_module_version": "1.2.0",
      "_view_name": "LayoutView",
      "align_content": null,
      "align_items": null,
      "align_self": null,
      "border": null,
      "bottom": null,
      "display": null,
      "flex": null,
      "flex_flow": null,
      "grid_area": null,
      "grid_auto_columns": null,
      "grid_auto_flow": null,
      "grid_auto_rows": null,
      "grid_column": null,
      "grid_gap": null,
      "grid_row": null,
      "grid_template_areas": null,
      "grid_template_columns": null,
      "grid_template_rows": null,
      "height": null,
      "justify_content": null,
      "justify_items": null,
      "left": null,
      "margin": null,
      "max_height": null,
      "max_width": null,
      "min_height": null,
      "min_width": null,
      "object_fit": null,
      "object_position": null,
      "order": null,
      "overflow": null,
      "overflow_x": null,
      "overflow_y": null,
      "padding": null,
      "right": null,
      "top": null,
      "visibility": null,
      "width": null
     }
    },
    "c80366e255494cd0ad0ffbe695c65b04": {
     "model_module": "@jupyter-widgets/base",
     "model_name": "LayoutModel",
     "state": {
      "_model_module": "@jupyter-widgets/base",
      "_model_module_version": "1.2.0",
      "_model_name": "LayoutModel",
      "_view_count": null,
      "_view_module": "@jupyter-widgets/base",
      "_view_module_version": "1.2.0",
      "_view_name": "LayoutView",
      "align_content": null,
      "align_items": null,
      "align_self": null,
      "border": null,
      "bottom": null,
      "display": null,
      "flex": null,
      "flex_flow": null,
      "grid_area": null,
      "grid_auto_columns": null,
      "grid_auto_flow": null,
      "grid_auto_rows": null,
      "grid_column": null,
      "grid_gap": null,
      "grid_row": null,
      "grid_template_areas": null,
      "grid_template_columns": null,
      "grid_template_rows": null,
      "height": null,
      "justify_content": null,
      "justify_items": null,
      "left": null,
      "margin": null,
      "max_height": null,
      "max_width": null,
      "min_height": null,
      "min_width": null,
      "object_fit": null,
      "object_position": null,
      "order": null,
      "overflow": null,
      "overflow_x": null,
      "overflow_y": null,
      "padding": null,
      "right": null,
      "top": null,
      "visibility": null,
      "width": null
     }
    },
    "c85b55012cbe47ee83d8d8dde6b24cc2": {
     "model_module": "@jupyter-widgets/controls",
     "model_name": "ProgressStyleModel",
     "state": {
      "_model_module": "@jupyter-widgets/controls",
      "_model_module_version": "1.5.0",
      "_model_name": "ProgressStyleModel",
      "_view_count": null,
      "_view_module": "@jupyter-widgets/base",
      "_view_module_version": "1.2.0",
      "_view_name": "StyleView",
      "bar_color": null,
      "description_width": "initial"
     }
    },
    "c8d54cae08f64763bb449fe025b21d36": {
     "model_module": "@jupyter-widgets/base",
     "model_name": "LayoutModel",
     "state": {
      "_model_module": "@jupyter-widgets/base",
      "_model_module_version": "1.2.0",
      "_model_name": "LayoutModel",
      "_view_count": null,
      "_view_module": "@jupyter-widgets/base",
      "_view_module_version": "1.2.0",
      "_view_name": "LayoutView",
      "align_content": null,
      "align_items": null,
      "align_self": null,
      "border": null,
      "bottom": null,
      "display": null,
      "flex": null,
      "flex_flow": null,
      "grid_area": null,
      "grid_auto_columns": null,
      "grid_auto_flow": null,
      "grid_auto_rows": null,
      "grid_column": null,
      "grid_gap": null,
      "grid_row": null,
      "grid_template_areas": null,
      "grid_template_columns": null,
      "grid_template_rows": null,
      "height": null,
      "justify_content": null,
      "justify_items": null,
      "left": null,
      "margin": null,
      "max_height": null,
      "max_width": null,
      "min_height": null,
      "min_width": null,
      "object_fit": null,
      "object_position": null,
      "order": null,
      "overflow": null,
      "overflow_x": null,
      "overflow_y": null,
      "padding": null,
      "right": null,
      "top": null,
      "visibility": null,
      "width": null
     }
    },
    "ca4a298262294937a7efb3ca87b1e2d8": {
     "model_module": "@jupyter-widgets/base",
     "model_name": "LayoutModel",
     "state": {
      "_model_module": "@jupyter-widgets/base",
      "_model_module_version": "1.2.0",
      "_model_name": "LayoutModel",
      "_view_count": null,
      "_view_module": "@jupyter-widgets/base",
      "_view_module_version": "1.2.0",
      "_view_name": "LayoutView",
      "align_content": null,
      "align_items": null,
      "align_self": null,
      "border": null,
      "bottom": null,
      "display": null,
      "flex": null,
      "flex_flow": null,
      "grid_area": null,
      "grid_auto_columns": null,
      "grid_auto_flow": null,
      "grid_auto_rows": null,
      "grid_column": null,
      "grid_gap": null,
      "grid_row": null,
      "grid_template_areas": null,
      "grid_template_columns": null,
      "grid_template_rows": null,
      "height": null,
      "justify_content": null,
      "justify_items": null,
      "left": null,
      "margin": null,
      "max_height": null,
      "max_width": null,
      "min_height": null,
      "min_width": null,
      "object_fit": null,
      "object_position": null,
      "order": null,
      "overflow": null,
      "overflow_x": null,
      "overflow_y": null,
      "padding": null,
      "right": null,
      "top": null,
      "visibility": null,
      "width": null
     }
    },
    "cb4c3c6fc9094aafa6a8fc38a9fec72e": {
     "model_module": "@jupyter-widgets/base",
     "model_name": "LayoutModel",
     "state": {
      "_model_module": "@jupyter-widgets/base",
      "_model_module_version": "1.2.0",
      "_model_name": "LayoutModel",
      "_view_count": null,
      "_view_module": "@jupyter-widgets/base",
      "_view_module_version": "1.2.0",
      "_view_name": "LayoutView",
      "align_content": null,
      "align_items": null,
      "align_self": null,
      "border": null,
      "bottom": null,
      "display": null,
      "flex": null,
      "flex_flow": null,
      "grid_area": null,
      "grid_auto_columns": null,
      "grid_auto_flow": null,
      "grid_auto_rows": null,
      "grid_column": null,
      "grid_gap": null,
      "grid_row": null,
      "grid_template_areas": null,
      "grid_template_columns": null,
      "grid_template_rows": null,
      "height": null,
      "justify_content": null,
      "justify_items": null,
      "left": null,
      "margin": null,
      "max_height": null,
      "max_width": null,
      "min_height": null,
      "min_width": null,
      "object_fit": null,
      "object_position": null,
      "order": null,
      "overflow": null,
      "overflow_x": null,
      "overflow_y": null,
      "padding": null,
      "right": null,
      "top": null,
      "visibility": null,
      "width": null
     }
    },
    "ce8ff3ada6a64d518aa581e382eef5b9": {
     "model_module": "@jupyter-widgets/controls",
     "model_name": "DescriptionStyleModel",
     "state": {
      "_model_module": "@jupyter-widgets/controls",
      "_model_module_version": "1.5.0",
      "_model_name": "DescriptionStyleModel",
      "_view_count": null,
      "_view_module": "@jupyter-widgets/base",
      "_view_module_version": "1.2.0",
      "_view_name": "StyleView",
      "description_width": ""
     }
    },
    "d30c52aa212a443aa39114958a163c4e": {
     "model_module": "@jupyter-widgets/base",
     "model_name": "LayoutModel",
     "state": {
      "_model_module": "@jupyter-widgets/base",
      "_model_module_version": "1.2.0",
      "_model_name": "LayoutModel",
      "_view_count": null,
      "_view_module": "@jupyter-widgets/base",
      "_view_module_version": "1.2.0",
      "_view_name": "LayoutView",
      "align_content": null,
      "align_items": null,
      "align_self": null,
      "border": null,
      "bottom": null,
      "display": null,
      "flex": null,
      "flex_flow": null,
      "grid_area": null,
      "grid_auto_columns": null,
      "grid_auto_flow": null,
      "grid_auto_rows": null,
      "grid_column": null,
      "grid_gap": null,
      "grid_row": null,
      "grid_template_areas": null,
      "grid_template_columns": null,
      "grid_template_rows": null,
      "height": null,
      "justify_content": null,
      "justify_items": null,
      "left": null,
      "margin": null,
      "max_height": null,
      "max_width": null,
      "min_height": null,
      "min_width": null,
      "object_fit": null,
      "object_position": null,
      "order": null,
      "overflow": null,
      "overflow_x": null,
      "overflow_y": null,
      "padding": null,
      "right": null,
      "top": null,
      "visibility": null,
      "width": null
     }
    },
    "d5fcf781be3547d28b2a9d42acad5778": {
     "model_module": "@jupyter-widgets/base",
     "model_name": "LayoutModel",
     "state": {
      "_model_module": "@jupyter-widgets/base",
      "_model_module_version": "1.2.0",
      "_model_name": "LayoutModel",
      "_view_count": null,
      "_view_module": "@jupyter-widgets/base",
      "_view_module_version": "1.2.0",
      "_view_name": "LayoutView",
      "align_content": null,
      "align_items": null,
      "align_self": null,
      "border": null,
      "bottom": null,
      "display": null,
      "flex": null,
      "flex_flow": null,
      "grid_area": null,
      "grid_auto_columns": null,
      "grid_auto_flow": null,
      "grid_auto_rows": null,
      "grid_column": null,
      "grid_gap": null,
      "grid_row": null,
      "grid_template_areas": null,
      "grid_template_columns": null,
      "grid_template_rows": null,
      "height": null,
      "justify_content": null,
      "justify_items": null,
      "left": null,
      "margin": null,
      "max_height": null,
      "max_width": null,
      "min_height": null,
      "min_width": null,
      "object_fit": null,
      "object_position": null,
      "order": null,
      "overflow": null,
      "overflow_x": null,
      "overflow_y": null,
      "padding": null,
      "right": null,
      "top": null,
      "visibility": null,
      "width": null
     }
    },
    "d6db62ea0f744f14ab1152bda3ac2ff8": {
     "model_module": "@jupyter-widgets/base",
     "model_name": "LayoutModel",
     "state": {
      "_model_module": "@jupyter-widgets/base",
      "_model_module_version": "1.2.0",
      "_model_name": "LayoutModel",
      "_view_count": null,
      "_view_module": "@jupyter-widgets/base",
      "_view_module_version": "1.2.0",
      "_view_name": "LayoutView",
      "align_content": null,
      "align_items": null,
      "align_self": null,
      "border": null,
      "bottom": null,
      "display": null,
      "flex": null,
      "flex_flow": null,
      "grid_area": null,
      "grid_auto_columns": null,
      "grid_auto_flow": null,
      "grid_auto_rows": null,
      "grid_column": null,
      "grid_gap": null,
      "grid_row": null,
      "grid_template_areas": null,
      "grid_template_columns": null,
      "grid_template_rows": null,
      "height": null,
      "justify_content": null,
      "justify_items": null,
      "left": null,
      "margin": null,
      "max_height": null,
      "max_width": null,
      "min_height": null,
      "min_width": null,
      "object_fit": null,
      "object_position": null,
      "order": null,
      "overflow": null,
      "overflow_x": null,
      "overflow_y": null,
      "padding": null,
      "right": null,
      "top": null,
      "visibility": null,
      "width": null
     }
    },
    "ea5d367d532941408df74066053b5b16": {
     "model_module": "@jupyter-widgets/controls",
     "model_name": "HTMLModel",
     "state": {
      "_dom_classes": [],
      "_model_module": "@jupyter-widgets/controls",
      "_model_module_version": "1.5.0",
      "_model_name": "HTMLModel",
      "_view_count": null,
      "_view_module": "@jupyter-widgets/controls",
      "_view_module_version": "1.5.0",
      "_view_name": "HTMLView",
      "description": "",
      "description_tooltip": null,
      "layout": "IPY_MODEL_47ad61b2fe554971bb15266ae1d1391e",
      "placeholder": "​",
      "style": "IPY_MODEL_89345f14a8c34523982995a3dc5d6bef",
      "value": " 3/3 [07:11&lt;00:00, 143.95s/it]"
     }
    },
    "eff054ebcd81404f8b5adc49a8f3a798": {
     "model_module": "@jupyter-widgets/base",
     "model_name": "LayoutModel",
     "state": {
      "_model_module": "@jupyter-widgets/base",
      "_model_module_version": "1.2.0",
      "_model_name": "LayoutModel",
      "_view_count": null,
      "_view_module": "@jupyter-widgets/base",
      "_view_module_version": "1.2.0",
      "_view_name": "LayoutView",
      "align_content": null,
      "align_items": null,
      "align_self": null,
      "border": null,
      "bottom": null,
      "display": null,
      "flex": null,
      "flex_flow": null,
      "grid_area": null,
      "grid_auto_columns": null,
      "grid_auto_flow": null,
      "grid_auto_rows": null,
      "grid_column": null,
      "grid_gap": null,
      "grid_row": null,
      "grid_template_areas": null,
      "grid_template_columns": null,
      "grid_template_rows": null,
      "height": null,
      "justify_content": null,
      "justify_items": null,
      "left": null,
      "margin": null,
      "max_height": null,
      "max_width": null,
      "min_height": null,
      "min_width": null,
      "object_fit": null,
      "object_position": null,
      "order": null,
      "overflow": null,
      "overflow_x": null,
      "overflow_y": null,
      "padding": null,
      "right": null,
      "top": null,
      "visibility": null,
      "width": null
     }
    },
    "f06c0d24e5db4abbacce00c95f16fa74": {
     "model_module": "@jupyter-widgets/base",
     "model_name": "LayoutModel",
     "state": {
      "_model_module": "@jupyter-widgets/base",
      "_model_module_version": "1.2.0",
      "_model_name": "LayoutModel",
      "_view_count": null,
      "_view_module": "@jupyter-widgets/base",
      "_view_module_version": "1.2.0",
      "_view_name": "LayoutView",
      "align_content": null,
      "align_items": null,
      "align_self": null,
      "border": null,
      "bottom": null,
      "display": null,
      "flex": null,
      "flex_flow": null,
      "grid_area": null,
      "grid_auto_columns": null,
      "grid_auto_flow": null,
      "grid_auto_rows": null,
      "grid_column": null,
      "grid_gap": null,
      "grid_row": null,
      "grid_template_areas": null,
      "grid_template_columns": null,
      "grid_template_rows": null,
      "height": null,
      "justify_content": null,
      "justify_items": null,
      "left": null,
      "margin": null,
      "max_height": null,
      "max_width": null,
      "min_height": null,
      "min_width": null,
      "object_fit": null,
      "object_position": null,
      "order": null,
      "overflow": null,
      "overflow_x": null,
      "overflow_y": null,
      "padding": null,
      "right": null,
      "top": null,
      "visibility": null,
      "width": null
     }
    },
    "f1c4d698def34a6f856f20ea70eb75ae": {
     "model_module": "@jupyter-widgets/controls",
     "model_name": "HBoxModel",
     "state": {
      "_dom_classes": [],
      "_model_module": "@jupyter-widgets/controls",
      "_model_module_version": "1.5.0",
      "_model_name": "HBoxModel",
      "_view_count": null,
      "_view_module": "@jupyter-widgets/controls",
      "_view_module_version": "1.5.0",
      "_view_name": "HBoxView",
      "box_style": "",
      "children": [
       "IPY_MODEL_a61916a7f8ee43e78f5b481c1533ba62",
       "IPY_MODEL_ea5d367d532941408df74066053b5b16"
      ],
      "layout": "IPY_MODEL_c8d54cae08f64763bb449fe025b21d36"
     }
    },
    "f3489e9bec764f49811fcab967ca82bb": {
     "model_module": "@jupyter-widgets/controls",
     "model_name": "DescriptionStyleModel",
     "state": {
      "_model_module": "@jupyter-widgets/controls",
      "_model_module_version": "1.5.0",
      "_model_name": "DescriptionStyleModel",
      "_view_count": null,
      "_view_module": "@jupyter-widgets/base",
      "_view_module_version": "1.2.0",
      "_view_name": "StyleView",
      "description_width": ""
     }
    },
    "f785bceed6b94f6e90036ffe58bef237": {
     "model_module": "@jupyter-widgets/controls",
     "model_name": "FloatProgressModel",
     "state": {
      "_dom_classes": [],
      "_model_module": "@jupyter-widgets/controls",
      "_model_module_version": "1.5.0",
      "_model_name": "FloatProgressModel",
      "_view_count": null,
      "_view_module": "@jupyter-widgets/controls",
      "_view_module_version": "1.5.0",
      "_view_name": "ProgressView",
      "bar_style": "success",
      "description": "Downloading: 100%",
      "description_tooltip": null,
      "layout": "IPY_MODEL_c80366e255494cd0ad0ffbe695c65b04",
      "max": 440473133,
      "min": 0,
      "orientation": "horizontal",
      "style": "IPY_MODEL_5eaf9ab41b1e46fd82b6a29a1d64bffc",
      "value": 440473133
     }
    }
   }
  }
 },
 "nbformat": 4,
 "nbformat_minor": 1
}
